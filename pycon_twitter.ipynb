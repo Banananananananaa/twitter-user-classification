{
 "cells": [
  {
   "cell_type": "markdown",
   "metadata": {},
   "source": [
    "<h1><center>Twitter user classification</h1></center>\n",
    "<h1><center>Topic modeling and GloVe vectors in gensim</h1></center>\n",
    "<img src=\"images/gensim.png\">\n",
    "\n",
    "We will be developing a toy machine learning pipeline which can classify a twitter user into one of 8 categories based on the user's tweets.\n",
    "Following are the concepts we'll be exploring:\n",
    "- Bag of words\n",
    "- TF-IDF\n",
    "- Visualizing our data with topic models.\n",
    "- LDA model tuning with topic coherence\n",
    "- Dimensionality reduction with topic models\n",
    "- GloVe vectors for classification\n",
    "\n",
    "Through this tutorial, you will become comfortable with the gensim API and also learn how to do topic modeling effectively using gensim. There could be better ways of tuning certain topic models using other techniques however we will be using the newly released topic coherence pipeline implemented in gensim inspired from [this](http://svn.aksw.org/papers/2015/WSDM_Topic_Evaluation/public.pdf) paper by Roeder et al.\n",
    "### Requirements\n",
    "- [python-twitter](https://python-twitter.readthedocs.io/en/latest/)\n",
    "- [Pre-trained stanford GloVe vectors for twitter](http://nlp.stanford.edu/data/glove.twitter.27B.zip)\n",
    "- gensim (latest development version preferred)\n",
    "- [twitter app authentication](http://iag.me/socialmedia/how-to-create-a-twitter-app-in-8-easy-steps/) and hence a twitter account\n",
    "- scikit-learn\n",
    "- pandas\n",
    "- numpy\n",
    "- nltk with english stopwords\n",
    "-  At least 4 GB RAM preferred. Can use the smaller GloVe vector files if RAM is an issue as there are multiple GloVe vector files available.\n",
    "\n",
    "### Dataset\n",
    "I've already built a mini-dataset consisting of a `category->handle->tweets` mapping however this is just a toy dataset. A production level twitter classifier will most likely have many more categories with a lot more handles."
   ]
  },
  {
   "cell_type": "code",
   "execution_count": 1,
   "metadata": {
    "collapsed": false
   },
   "outputs": [],
   "source": [
    "import twitter\n",
    "import pickle\n",
    "import credentials  # You'll have to fill in the credentials in the credentials file here\n",
    "\n",
    "from pprint import pprint"
   ]
  },
  {
   "cell_type": "code",
   "execution_count": 2,
   "metadata": {
    "collapsed": false
   },
   "outputs": [],
   "source": [
    "api = twitter.Api(**credentials.creds_dict)"
   ]
  },
  {
   "cell_type": "markdown",
   "metadata": {},
   "source": [
    "### Creating and exploring our dataset"
   ]
  },
  {
   "cell_type": "markdown",
   "metadata": {},
   "source": [
    "### Creating the dataset"
   ]
  },
  {
   "cell_type": "markdown",
   "metadata": {},
   "source": [
    "I had created a function to get tweets category-wise to avoid rate limiting problems."
   ]
  },
  {
   "cell_type": "raw",
   "metadata": {
    "collapsed": false
   },
   "source": [
    "def getTweets(category_dict, category):\n",
    "    \"\"\"\n",
    "    Function to get the tweets for each handle in the dictionary in the particular category.\n",
    "    \n",
    "    Parameters:\n",
    "    ----------\n",
    "    category_dict: User category dictionary consisting of categories and user handles.\n",
    "    category: String. Name of the category.\n",
    "    \n",
    "    Returns:\n",
    "    -------\n",
    "    category_dict: Dictionary with the most recent 200 tweets of all user handles.\n",
    "    \"\"\"\n",
    "    for handle in category_dict[category]:\n",
    "        category_dict[category][handle] = api.GetUserTimeline(screen_name=handle, count=200)\n",
    "    return category_dict"
   ]
  },
  {
   "cell_type": "markdown",
   "metadata": {},
   "source": [
    "I had added all the handles I could think of in one category and then gathered the tweets. Not the best way to go about it! To add new handles to a category, simply use `api.GetUserTimeline(screen_name=handle)` and add that under the relevant category with the handle"
   ]
  },
  {
   "cell_type": "raw",
   "metadata": {
    "collapsed": false
   },
   "source": [
    "pycon_dict = getTweets(pycon_dict, 'Business & CEOs')"
   ]
  },
  {
   "cell_type": "raw",
   "metadata": {
    "collapsed": true
   },
   "source": [
    "pickle.dump(pycon_dict, open('pycon_dict.pkl', 'wb'))"
   ]
  },
  {
   "cell_type": "markdown",
   "metadata": {},
   "source": [
    "We can just load the pre-created pickle for now"
   ]
  },
  {
   "cell_type": "code",
   "execution_count": 3,
   "metadata": {
    "collapsed": true
   },
   "outputs": [],
   "source": [
    "pycon_dict = pickle.load(open(\"data/pycon_dict.pkl\", \"rb\"))"
   ]
  },
  {
   "cell_type": "markdown",
   "metadata": {},
   "source": [
    "### Exploring the dataset"
   ]
  },
  {
   "cell_type": "markdown",
   "metadata": {},
   "source": [
    "Let's see which are the categories in the dictionary"
   ]
  },
  {
   "cell_type": "code",
   "execution_count": 4,
   "metadata": {
    "collapsed": false
   },
   "outputs": [
    {
     "data": {
      "text/plain": [
       "[u'Tech',\n",
       " u'Business & CEOs',\n",
       " u'Entertainment',\n",
       " 'Science',\n",
       " u'Fashion, Travel & Lifestyle',\n",
       " u'Sports',\n",
       " u'Music',\n",
       " u'Politics']"
      ]
     },
     "execution_count": 4,
     "metadata": {},
     "output_type": "execute_result"
    }
   ],
   "source": [
    "pycon_dict.keys()"
   ]
  },
  {
   "cell_type": "markdown",
   "metadata": {},
   "source": [
    "Each category contains a mix of benchmark twitter handles which can be magazines/channels and personalities tweeting about that category"
   ]
  },
  {
   "cell_type": "code",
   "execution_count": 5,
   "metadata": {
    "collapsed": false
   },
   "outputs": [
    {
     "data": {
      "text/plain": [
       "['GojiraMusic',\n",
       " u'thedailyswarm',\n",
       " u'soundofthecity',\n",
       " u'BLABBERMOUTHNET',\n",
       " 'davidguetta',\n",
       " u'mtvmusic',\n",
       " u'billboard',\n",
       " u'NME',\n",
       " 'frenchmusicuk',\n",
       " 'justinbieber',\n",
       " u'HipHopDX',\n",
       " 'arrahman',\n",
       " 'ironmaiden',\n",
       " u'coldplay',\n",
       " 'taylorswift13',\n",
       " u'stereogum',\n",
       " u'coslive',\n",
       " u'resetin',\n",
       " u'hypem',\n",
       " u'RollingStone',\n",
       " u'SPINmagazine']"
      ]
     },
     "execution_count": 5,
     "metadata": {},
     "output_type": "execute_result"
    }
   ],
   "source": [
    "pycon_dict['Music'].keys()"
   ]
  },
  {
   "cell_type": "markdown",
   "metadata": {},
   "source": [
    "All categories have almost the same number of handles"
   ]
  },
  {
   "cell_type": "code",
   "execution_count": 6,
   "metadata": {
    "collapsed": false,
    "scrolled": true
   },
   "outputs": [
    {
     "name": "stdout",
     "output_type": "stream",
     "text": [
      "['Tech-20', 'Business & CEOs-20', 'Entertainment-18', 'Science-18', 'Fashion, Travel & Lifestyle-19', 'Sports-19', 'Music-21', 'Politics-17']\n"
     ]
    }
   ],
   "source": [
    "print(['{}-{}'.format(cat, len(pycon_dict[cat].keys())) for cat in pycon_dict.keys()])"
   ]
  },
  {
   "cell_type": "markdown",
   "metadata": {},
   "source": [
    "### Time for manual inspection\n",
    "This is an important step while dealing with textual data\n",
    "\n",
    "What do tweets from different categories look like? Can we spot any patterns or signals through manual inspection?"
   ]
  },
  {
   "cell_type": "code",
   "execution_count": 7,
   "metadata": {
    "collapsed": false
   },
   "outputs": [
    {
     "data": {
      "text/plain": [
       "[Status(ID=764030547039354880, ScreenName=XinfuCEOs, Created=Fri Aug 12 09:27:32 +0000 2016, Text=u'Trying and failing is better than not trying at all. Think outside the box and take your company to a new level! https://t.co/3EJVNLWaS4'),\n",
       " Status(ID=763657953912221696, ScreenName=XinfuCEOs, Created=Thu Aug 11 08:46:58 +0000 2016, Text=u'Kalanick #CEObestpractice -have cool disruptive projects going alongside tough challenges, to keep you invigorated! https://t.co/c6UQMnCsjX'),\n",
       " Status(ID=761131367098974208, ScreenName=XinfuCEOs, Created=Thu Aug 04 09:27:13 +0000 2016, Text=u'Great CEOs need to be questioning the big things as Page does. Does your CEO do this? https://t.co/sJtzJoU5kf'),\n",
       " Status(ID=760382249779036160, ScreenName=XinfuCEOs, Created=Tue Aug 02 07:50:30 +0000 2016, Text=u'Read my new post on LinkedIn: \"CEOs fear September Brexit bump\" https://t.co/ZjXJdzzAs3 by @SteveTappin on @LinkedIn'),\n",
       " Status(ID=757895380306694144, ScreenName=XinfuCEOs, Created=Tue Jul 26 11:08:34 +0000 2016, Text=u\"What do you think of Verizon's buyout of Yahoo and what's next for Marissa Mayer? See what Steve@Xinfu thinks here: https://t.co/SxQSY7aAbR\")]"
      ]
     },
     "execution_count": 7,
     "metadata": {},
     "output_type": "execute_result"
    }
   ],
   "source": [
    "pycon_dict['Business & CEOs']['XinfuCEOs'][:5]"
   ]
  },
  {
   "cell_type": "code",
   "execution_count": 8,
   "metadata": {
    "collapsed": false
   },
   "outputs": [
    {
     "data": {
      "text/plain": [
       "[Status(ID=775665405897674752, ScreenName=MTVMusic, Created=Tue Sep 13 12:00:18 +0000 2016, Text=u'Tropical House Lives On At Electric Zoo https://t.co/lUpLIpWg3H by @_davidturner_: https://t.co/NI3bq2k8am'),\n",
       " Status(ID=775537028712759296, ScreenName=MTVMusic, Created=Tue Sep 13 03:30:11 +0000 2016, Text=u'Lady Gaga surprised a London bar with a \\u2018Perfect Illusion\\u2019 performance: https://t.co/qg2NLFmz4X https://t.co/N21EN56xXm'),\n",
       " Status(ID=775514431086325760, ScreenName=MTVMusic, Created=Tue Sep 13 02:00:23 +0000 2016, Text=u'Lil Wayne is leaving Cash Money on a grateful note: https://t.co/QyRbVc3oPe https://t.co/Pky9gbnhMS'),\n",
       " Status(ID=775509333786460161, ScreenName=MTVMusic, Created=Tue Sep 13 01:40:08 +0000 2016, Text=u'Drake really can\\u2019t say no to any opportunity to gush about Rihanna: https://t.co/zSuxnIlDGn https://t.co/RIneFgXBzv'),\n",
       " Status(ID=775479379782692864, ScreenName=MTVMusic, Created=Mon Sep 12 23:41:06 +0000 2016, Text=u'Tyler, The Creator and Earl Sweatshirt performed \\u2018Orange Juice\\u2019 just like old times: https://t.co/75rCQHjm8A https://t.co/Sgoch1InNL')]"
      ]
     },
     "execution_count": 8,
     "metadata": {},
     "output_type": "execute_result"
    }
   ],
   "source": [
    "pycon_dict['Music']['mtvmusic'][:5]"
   ]
  },
  {
   "cell_type": "code",
   "execution_count": 9,
   "metadata": {
    "collapsed": false
   },
   "outputs": [
    {
     "data": {
      "text/plain": [
       "[Status(ID=775500179663360000, ScreenName=NASA, Created=Tue Sep 13 01:03:45 +0000 2016, Text=u'RT @NASAEarth: Visualizing the Warmest August in 136 Years https://t.co/PSjA2NfYem Data via @NASAGISS #NASA #climate https://t.co/DIk8z7Zodj'),\n",
       " Status(ID=775482690678259712, ScreenName=NASA, Created=Mon Sep 12 23:54:15 +0000 2016, Text=u'Auroras are seen moving to the rhythms of Earth\\u2019s magnetic field by our THEMIS mission: https://t.co/cYtWB2VQNf https://t.co/zM1ih9shcF'),\n",
       " Status(ID=775469883832274944, ScreenName=NASA, Created=Mon Sep 12 23:03:22 +0000 2016, Text=u'August 2016 was warmest August in 136 years of modern records, say scientists at @NASAGISS: https://t.co/8uc0XmeCgB https://t.co/rESsBM4OeO'),\n",
       " Status(ID=775453525757333506, ScreenName=NASA, Created=Mon Sep 12 21:58:22 +0000 2016, Text=u'Join @NASAEarth on @Facebook at 6:30pm ET to learn how to document clouds from our new app: https://t.co/iDF2MYyxQC https://t.co/C8bYp2pgs8'),\n",
       " Status(ID=775431070191935488, ScreenName=NASA, Created=Mon Sep 12 20:29:08 +0000 2016, Text=u\"We're conducting aircraft flights measuring greenhouse gases over the mid-Atlantic region: https://t.co/DgAumubcDa https://t.co/mCxeVkZGYO\")]"
      ]
     },
     "execution_count": 9,
     "metadata": {},
     "output_type": "execute_result"
    }
   ],
   "source": [
    "pycon_dict['Science']['NASA'][:5]"
   ]
  },
  {
   "cell_type": "markdown",
   "metadata": {},
   "source": [
    "Manual inspection surely reveals some signal. We can see a marked difference between how typical tweets in the business, music and science category look like. Given some tweets from a category we should be able to classify accurately. The human mind is a pretty good classifier :)"
   ]
  },
  {
   "cell_type": "markdown",
   "metadata": {},
   "source": [
    "### Creating training and test sets"
   ]
  },
  {
   "cell_type": "code",
   "execution_count": 10,
   "metadata": {
    "collapsed": false
   },
   "outputs": [],
   "source": [
    "import numpy as np\n",
    "import pandas as pd"
   ]
  },
  {
   "cell_type": "markdown",
   "metadata": {},
   "source": [
    "We'll be using 90% of the tweets (for each profile) for training and 10% for testing, i.e. a 90-10 split as mentioned in [this](http://snap.stanford.edu/soma2010/papers/soma2010_12.pdf) paper by Davison et al. Cross validation can and should be done however since our dataset is small we'll be skipping it for now."
   ]
  },
  {
   "cell_type": "code",
   "execution_count": 11,
   "metadata": {
    "collapsed": true
   },
   "outputs": [],
   "source": [
    "columns = ['message', 'category']"
   ]
  },
  {
   "cell_type": "markdown",
   "metadata": {},
   "source": [
    "A [two-way](http://stackoverflow.com/questions/1456373/two-way-reverse-map) dictionary will help in creating a category mapping. I've already done this and we'll be using that mapping so that all of us have a uniform mapping"
   ]
  },
  {
   "cell_type": "code",
   "execution_count": 12,
   "metadata": {
    "collapsed": true
   },
   "outputs": [],
   "source": [
    "categories_map = {0: u'Business & CEOs',\n",
    "                  1: u'Music',\n",
    "                  2: u'Entertainment',\n",
    "                  3: u'Fashion, Travel & Lifestyle',\n",
    "                  4: u'Sports',\n",
    "                  5: u'Tech',\n",
    "                  6: u'Politics',\n",
    "                  7: u'Science',\n",
    "                  u'Business & CEOs': 0,\n",
    "                  u'Entertainment': 2,\n",
    "                  u'Fashion, Travel & Lifestyle': 3,\n",
    "                  u'Music': 1,\n",
    "                  u'Politics': 6,\n",
    "                  u'Science': 7,\n",
    "                  u'Sports': 4,\n",
    "                  u'Tech': 5}"
   ]
  },
  {
   "cell_type": "code",
   "execution_count": 13,
   "metadata": {
    "collapsed": true
   },
   "outputs": [],
   "source": [
    "def get_dataframes(pycon_dict):\n",
    "    \"\"\"\n",
    "    Function to get train and test dataframes (without any preprocessing).\n",
    "    \n",
    "    Parameters:\n",
    "    ----------\n",
    "    pycon_dict: The twitter user dictionary being used.\n",
    "    \n",
    "    Returns:\n",
    "    -------\n",
    "    train, test: Train and test dataframes.\n",
    "    \"\"\"\n",
    "    train = pd.DataFrame(columns=columns)\n",
    "    test = pd.DataFrame(columns=columns)\n",
    "    \n",
    "    for category in pycon_dict:\n",
    "        for entity in pycon_dict[category]:\n",
    "            train_texts = []\n",
    "            test_texts = []\n",
    "            num_texts = len(pycon_dict[category][entity])  # To get number of tweets\n",
    "            train_indices = np.random.choice(num_texts, int(0.9 * num_texts), replace=False)  # Random selection\n",
    "            test_indices = [i for i in range(num_texts) if i not in train_indices]  # Rest go into test set\n",
    "            train_texts.extend(pycon_dict[category][entity][i].text for i in train_indices)  # Add to train texts\n",
    "            test_texts.extend(pycon_dict[category][entity][i].text for i in test_indices)  # Add to test texts\n",
    "            #### Create train dataframe ####\n",
    "            train_texts = ' '.join(train_texts)\n",
    "            df_train = pd.DataFrame([[train_texts, categories_map[category]]], columns=columns)\n",
    "            train = train.append(df_train, ignore_index=True)\n",
    "            #### Create test dataframe ####\n",
    "            test_texts = ' '.join(test_texts)\n",
    "            df_test = pd.DataFrame([[test_texts, categories_map[category]]], columns=columns)\n",
    "            test = test.append(df_test, ignore_index=True)\n",
    "            \n",
    "    return train, test"
   ]
  },
  {
   "cell_type": "markdown",
   "metadata": {},
   "source": [
    "### Preprocessing our data. Remember: Garbage in, garbage out\n",
    "    NLP is 80% preprocessing\n",
    "                        - Lev Konstantinovskiy\n",
    "Preprocessing is probably the single most important step in producing good topic models which give human interpretable topics. Do take some time to study the preprocessor well because we'll be using the same preprocessor for the tasks later on for classification using Bag of words and TF-IDF"
   ]
  },
  {
   "cell_type": "code",
   "execution_count": 14,
   "metadata": {
    "collapsed": false
   },
   "outputs": [
    {
     "name": "stderr",
     "output_type": "stream",
     "text": [
      "/home/devashish/miniconda2/lib/python2.7/site-packages/numpy/lib/utils.py:99: DeprecationWarning: `scipy.sparse.sparsetools` is deprecated!\n",
      "scipy.sparse.sparsetools is a private module for scipy.sparse, and should not be used.\n",
      "  warnings.warn(depdoc, DeprecationWarning)\n"
     ]
    }
   ],
   "source": [
    "import re\n",
    "from nltk.corpus import stopwords  # for using english stopwords\n",
    "from gensim.models.phrases import Phrases\n",
    "from gensim.utils import deaccent, decode_htmlentities, lemmatize"
   ]
  },
  {
   "cell_type": "code",
   "execution_count": 15,
   "metadata": {
    "collapsed": true
   },
   "outputs": [],
   "source": [
    "stops = stopwords.words('english')"
   ]
  },
  {
   "cell_type": "markdown",
   "metadata": {},
   "source": [
    "Following are the steps we'll be taking to preprocess a user profile, i.e. a space seperated collection of at most 200 most recent tweets of the profile:\n",
    "1. Decode html entities. eg. \"AT`&`amp;T\" will become \"AT&T\"\n",
    "2. Deaccent. Eg:\n",
    "    ```\n",
    "    >>> deaccent(\"Šéf chomutovských komunistů dostal poštou bílý prášek\")\n",
    "    u'Sef chomutovskych komunistu dostal postou bily prasek'\n",
    "    ```\n",
    "3. Remove links.\n",
    "4. Remove any user mentions (__@name__). This could maybe be skipped as user mentions can also provide signal. However we'll be removing them for this tutorial.\n",
    "5. Lemmatize and remove stopwords. Lemmatization is preferred over stemming here because lemmatization retains readability of the words which is important in our case."
   ]
  },
  {
   "cell_type": "code",
   "execution_count": 16,
   "metadata": {
    "collapsed": false
   },
   "outputs": [],
   "source": [
    "def preprocess_text(tweet):\n",
    "    \"\"\"\n",
    "    Function to process an aggregated user profile. This does the following:\n",
    "    1. Decode html entities. eg. \"AT&amp;T\" will become \"AT&T\"\n",
    "    2. Deaccent\n",
    "    3. Remove links.\n",
    "    4. Remove any user mentions (@name).\n",
    "    5. Lemmatize and remove stopwords.\n",
    "    \n",
    "    Parameters:\n",
    "    ----------\n",
    "    text : String. If train_texts is a list of tweets, ' '.join and pass\n",
    "    \n",
    "    Returns:\n",
    "    -------\n",
    "    text : preprocessed (tokenized) tweet.\n",
    "    \"\"\"\n",
    "    tweet = decode_htmlentities(tweet)\n",
    "    tweet = deaccent(tweet)\n",
    "    tweet = tweet.encode('ascii', 'ignore')  # To prevent UnicodeDecodeErrors later on\n",
    "    tweet = re.sub(r'http\\S+', '', tweet)  # Step 3\n",
    "    tweet = re.sub(r'@\\w+', '', tweet)  # Step 4\n",
    "    tweet = tweet.split()\n",
    "    tweet = lemmatize(' '.join(tweet), re.compile('(NN)'), stopwords=stops, min_length=3, max_length=15)\n",
    "    tweet = [word.split('/')[0] for word in tweet]\n",
    "    return tweet"
   ]
  },
  {
   "cell_type": "code",
   "execution_count": 17,
   "metadata": {
    "collapsed": false
   },
   "outputs": [
    {
     "data": {
      "text/plain": [
       "['house', 'zoo']"
      ]
     },
     "execution_count": 17,
     "metadata": {},
     "output_type": "execute_result"
    }
   ],
   "source": [
    "preprocess_text('Tropical House Lives On At Electric Zoo :) https://t.co/lUpLIpWg3H by @_davidturner_: https://t.co/NI3bq2k8am')"
   ]
  },
  {
   "cell_type": "markdown",
   "metadata": {
    "collapsed": true
   },
   "source": [
    "### Preprocessing our train, test dataframes"
   ]
  },
  {
   "cell_type": "code",
   "execution_count": 18,
   "metadata": {
    "collapsed": true
   },
   "outputs": [],
   "source": [
    "train, test = get_dataframes(pycon_dict)"
   ]
  },
  {
   "cell_type": "markdown",
   "metadata": {},
   "source": [
    "Let's see what our function does"
   ]
  },
  {
   "cell_type": "code",
   "execution_count": 19,
   "metadata": {
    "collapsed": false
   },
   "outputs": [
    {
     "data": {
      "text/plain": [
       "['itc',\n",
       " 'judge',\n",
       " 'rule',\n",
       " 'jawbone',\n",
       " 'trade',\n",
       " 'secret',\n",
       " 'hate',\n",
       " 'instagram',\n",
       " 'selenagomez',\n",
       " 'father',\n",
       " 'faa',\n",
       " 'galaxy',\n",
       " 'note',\n",
       " 'airplane',\n",
       " 'sony',\n",
       " 'playstation',\n",
       " 'september',\n",
       " 'security',\n",
       " 'researcher',\n",
       " 'toy',\n",
       " 'cyber',\n",
       " 'scammer',\n",
       " 'didi',\n",
       " 'uber',\n",
       " 'acquisition',\n",
       " 'concern',\n",
       " 'gps',\n",
       " 'battery',\n",
       " 'life',\n",
       " 'waterproofing',\n",
       " 'appleevent',\n",
       " 'google',\n",
       " 'nexus',\n",
       " 'branding',\n",
       " 'phone',\n",
       " 'verizon',\n",
       " 'supreme',\n",
       " 'test',\n",
       " 'everyone',\n",
       " 'firebox',\n",
       " 'electrolysis',\n",
       " 'project',\n",
       " 'iphone',\n",
       " 'event',\n",
       " 'start',\n",
       " 'time',\n",
       " 'stream',\n",
       " 'biofuel',\n",
       " 'environment',\n",
       " 'gasoline',\n",
       " 'apple',\n",
       " 'iphone',\n",
       " 'announcement',\n",
       " 'day',\n",
       " 'skype',\n",
       " 'facebook',\n",
       " 'messenger',\n",
       " 'regulation',\n",
       " 'europe',\n",
       " 'access',\n",
       " 'cuba',\n",
       " 'california',\n",
       " 'emission',\n",
       " 'regulation',\n",
       " 'alphabet',\n",
       " 'exec',\n",
       " 'david',\n",
       " 'drummond',\n",
       " 'board',\n",
       " 'concern',\n",
       " 'norway',\n",
       " 'newspaper',\n",
       " 'head',\n",
       " 'zuckerberg',\n",
       " 'censorship',\n",
       " 'refugee',\n",
       " 'phone',\n",
       " 'necessity',\n",
       " 'twitter',\n",
       " 'terrorism',\n",
       " 'account',\n",
       " 'apple',\n",
       " 'shot',\n",
       " 'winning',\n",
       " 'wrist',\n",
       " 'applewatch',\n",
       " 'pokemon',\n",
       " 'fever',\n",
       " 'sign',\n",
       " 'cbs',\n",
       " 'access',\n",
       " 'option',\n",
       " 'iphone',\n",
       " 'pre',\n",
       " 'show',\n",
       " 'blog',\n",
       " 'iphone',\n",
       " 'tomorrow',\n",
       " 'pre',\n",
       " 'show',\n",
       " 'blog',\n",
       " 'microsoft',\n",
       " 'lumia',\n",
       " 'line',\n",
       " 'december',\n",
       " 'microsoftlumia',\n",
       " 'taxi',\n",
       " 'bullet',\n",
       " 'train',\n",
       " 'tokyo',\n",
       " 'olympic',\n",
       " 'tokyo',\n",
       " 'nba',\n",
       " 'superstar',\n",
       " 'stephcurry',\n",
       " 'china',\n",
       " 'spacex',\n",
       " 'setback',\n",
       " 'falcon',\n",
       " 'explosion',\n",
       " 'harley',\n",
       " 'davidson',\n",
       " 'emission',\n",
       " 'problem',\n",
       " 'phone',\n",
       " 'refrigerator',\n",
       " 'startrek',\n",
       " 'picardo',\n",
       " 'science',\n",
       " 'nerd',\n",
       " 'cook',\n",
       " 'basis',\n",
       " 'fact',\n",
       " 'law',\n",
       " 'ruling',\n",
       " 'apple',\n",
       " 'appletax',\n",
       " 'volvo',\n",
       " 'company',\n",
       " 'venture',\n",
       " 'week',\n",
       " 'univision',\n",
       " 'sister',\n",
       " 'site',\n",
       " 'burn',\n",
       " 'mcdonald',\n",
       " 'fitness',\n",
       " 'tracker',\n",
       " 'google',\n",
       " 'project',\n",
       " 'fuchsia',\n",
       " 'break',\n",
       " 'spacex',\n",
       " 'loss',\n",
       " 'rocket',\n",
       " 'payload',\n",
       " 'explosion',\n",
       " 'test',\n",
       " 'krzanich',\n",
       " 'idf',\n",
       " 'lte',\n",
       " 'lte',\n",
       " 'apple',\n",
       " 'tax',\n",
       " 'bill',\n",
       " 'basis',\n",
       " 'fact',\n",
       " 'law',\n",
       " 'appletax',\n",
       " 'facebook',\n",
       " 'norway',\n",
       " 'minister',\n",
       " 'girl',\n",
       " 'photo',\n",
       " 'twitter',\n",
       " 'solution',\n",
       " 'troll',\n",
       " 'epidemic',\n",
       " 'nexus',\n",
       " 'phone',\n",
       " 'tablet',\n",
       " 'android',\n",
       " 'nougat',\n",
       " 'hacker',\n",
       " 'jone',\n",
       " 'data',\n",
       " 'photo',\n",
       " 'racist',\n",
       " 'commentary',\n",
       " 'flex',\n",
       " 'waterproof',\n",
       " 'tracker',\n",
       " 'apple',\n",
       " 'update',\n",
       " 'squash',\n",
       " 'security',\n",
       " 'bug',\n",
       " 'jeff',\n",
       " 'bezos',\n",
       " 'origin',\n",
       " 'spacex',\n",
       " 'rocket',\n",
       " 'glenn',\n",
       " 'google',\n",
       " 'fiber',\n",
       " 'step',\n",
       " 'speed',\n",
       " 'internet',\n",
       " 'supremacy',\n",
       " 'airpod',\n",
       " 'schmairpod',\n",
       " 'samsung',\n",
       " 'world',\n",
       " 'earbud',\n",
       " 'google',\n",
       " 'camera',\n",
       " 'app',\n",
       " 'land',\n",
       " 'brand',\n",
       " 'sharing',\n",
       " 'feature',\n",
       " 'google',\n",
       " 'redesign',\n",
       " 'person',\n",
       " 'apple',\n",
       " 'apple',\n",
       " 'iphone',\n",
       " 'news',\n",
       " 'twitter',\n",
       " 'project',\n",
       " 'alloy',\n",
       " 'project',\n",
       " 'euclid',\n",
       " 'everything',\n",
       " 'idf',\n",
       " 'iphone',\n",
       " 'plus',\n",
       " 'photo',\n",
       " 'ante',\n",
       " 'camera',\n",
       " 'apple',\n",
       " 'auction',\n",
       " 'block',\n",
       " 'intel',\n",
       " 'project',\n",
       " 'alloy',\n",
       " 'wire',\n",
       " 'controller',\n",
       " 'idf',\n",
       " 'kid',\n",
       " 'activity',\n",
       " 'tracker',\n",
       " 'meal',\n",
       " 'report',\n",
       " 'skin',\n",
       " 'burn',\n",
       " 'berlin',\n",
       " 'samsung',\n",
       " 'event',\n",
       " 'hand',\n",
       " 'fuchsia',\n",
       " 'google',\n",
       " 'operating',\n",
       " 'system',\n",
       " 'twitter',\n",
       " 'video',\n",
       " 'creator',\n",
       " 'make',\n",
       " 'money',\n",
       " 'zte',\n",
       " 'blockbuster',\n",
       " 'gadget',\n",
       " 'ifa',\n",
       " 'raises',\n",
       " 'benefit',\n",
       " 'man',\n",
       " 'woman',\n",
       " 'research',\n",
       " 'samsung',\n",
       " 'problem',\n",
       " 'recall',\n",
       " 'alexa',\n",
       " 'cook',\n",
       " 'apple',\n",
       " 'company',\n",
       " 'one',\n",
       " 'stevejob',\n",
       " 'gimmick',\n",
       " 'whiz',\n",
       " 'sleeve',\n",
       " 'phone',\n",
       " 'mark',\n",
       " 'zuckerberg',\n",
       " 'system',\n",
       " 'toast',\n",
       " 'apple',\n",
       " 'spyware',\n",
       " 'user',\n",
       " 'iphone',\n",
       " 'benchmark',\n",
       " 'test',\n",
       " 'michigan',\n",
       " 'car',\n",
       " 'roller',\n",
       " 'coaster',\n",
       " 'ride',\n",
       " 'tablet',\n",
       " 'sale',\n",
       " 'iphone',\n",
       " 'water',\n",
       " 'resistant',\n",
       " 'body',\n",
       " 'camera',\n",
       " 'headphone',\n",
       " 'jack',\n",
       " 'twitter',\n",
       " 'feature',\n",
       " 'troll',\n",
       " 'georgeorwell',\n",
       " 'stone',\n",
       " 'snowdenmovie',\n",
       " 'amazon',\n",
       " 'echo',\n",
       " 'conversation',\n",
       " 'push',\n",
       " 'notification',\n",
       " 'discovery',\n",
       " 'earth',\n",
       " 'plan',\n",
       " 'fly',\n",
       " 'laser',\n",
       " 'spacecraft',\n",
       " 'facebook',\n",
       " 'messenger',\n",
       " 'bot',\n",
       " 'payment',\n",
       " 'docs',\n",
       " 'support',\n",
       " 'claim',\n",
       " 'hack',\n",
       " 'google',\n",
       " 'fiber',\n",
       " 'cost',\n",
       " 'trust',\n",
       " 'facebook',\n",
       " 'topic',\n",
       " 'news',\n",
       " 'story',\n",
       " 'controversy',\n",
       " 'ukraine',\n",
       " 'canada',\n",
       " 'tech',\n",
       " 'relocation',\n",
       " 'flight',\n",
       " 'cnetroadtrip',\n",
       " 'refugee',\n",
       " 'call',\n",
       " 'startrek',\n",
       " 'actor',\n",
       " 'tim',\n",
       " 'trekkie',\n",
       " 'samsung',\n",
       " 'bungee',\n",
       " 'jump',\n",
       " 'ifa',\n",
       " 'jungle',\n",
       " 'refugee',\n",
       " 'shantytown',\n",
       " 'france',\n",
       " 'cnetroadtrip',\n",
       " 'samsung',\n",
       " 'delay',\n",
       " 'shipment',\n",
       " 'quality',\n",
       " 'control',\n",
       " 'battery',\n",
       " 'uber',\n",
       " 'hit',\n",
       " 'sale',\n",
       " 'tax',\n",
       " 'bill',\n",
       " 'taiwan',\n",
       " 'apple',\n",
       " 'iphone',\n",
       " 'japan',\n",
       " 'apple',\n",
       " 'pay',\n",
       " 'raspberrypi',\n",
       " 'unit',\n",
       " 'kit',\n",
       " 'official',\n",
       " 'apple',\n",
       " 'event',\n",
       " 'joseph',\n",
       " 'gordon',\n",
       " 'privacy',\n",
       " 'debate',\n",
       " 'snowdenmovie',\n",
       " 'facebook',\n",
       " 'tech',\n",
       " 'anyone',\n",
       " 'build',\n",
       " 'computer',\n",
       " 'baltimore',\n",
       " 'surveillance',\n",
       " 'system',\n",
       " 'war',\n",
       " 'report',\n",
       " 'startrek',\n",
       " 'robert',\n",
       " 'directive',\n",
       " 'crap',\n",
       " 'clinton',\n",
       " 'campaign',\n",
       " 'messaging',\n",
       " 'app',\n",
       " 'astronomer',\n",
       " 'earth',\n",
       " 'planet',\n",
       " 'proxima',\n",
       " 'south',\n",
       " 'korea',\n",
       " 'hurry',\n",
       " 'share',\n",
       " 'datum',\n",
       " 'google',\n",
       " 'googlemap',\n",
       " 'applewatch',\n",
       " 'iphone',\n",
       " 'evolution',\n",
       " 'apple',\n",
       " 'product',\n",
       " 'cook',\n",
       " 'youtube',\n",
       " 'google',\n",
       " 'francisco',\n",
       " 'way',\n",
       " 'usb',\n",
       " 'macbookpro',\n",
       " 'iphone',\n",
       " 'end',\n",
       " 'headphone',\n",
       " 'jack',\n",
       " 'stream',\n",
       " 'uber',\n",
       " 'driver',\n",
       " 'setback',\n",
       " 'background',\n",
       " 'check',\n",
       " 'lawsuit',\n",
       " 'ruling',\n",
       " 'tmobile',\n",
       " 'something',\n",
       " 'tethering',\n",
       " 'video',\n",
       " 'apple',\n",
       " 'headphone',\n",
       " 'jack',\n",
       " 'iphone',\n",
       " 'phone',\n",
       " 'quality',\n",
       " 'quad',\n",
       " 'dac',\n",
       " 'spotify',\n",
       " 'guess',\n",
       " 'winning',\n",
       " 'apple',\n",
       " 'iphone',\n",
       " 'owner',\n",
       " 'touchscreen',\n",
       " 'problem',\n",
       " 'star',\n",
       " 'trek',\n",
       " 'gate',\n",
       " 'son',\n",
       " 'crusher',\n",
       " 'startrek',\n",
       " 'cnet',\n",
       " 'news',\n",
       " 'look',\n",
       " 'aspect',\n",
       " 'iphone',\n",
       " 'appleevent',\n",
       " 'user',\n",
       " 'message',\n",
       " 'company',\n",
       " 'business',\n",
       " 'gene',\n",
       " 'wilder',\n",
       " 'comedian',\n",
       " 'star',\n",
       " 'dream',\n",
       " 'startrek',\n",
       " 'series',\n",
       " 'experiment',\n",
       " 'hour',\n",
       " 'work',\n",
       " 'week',\n",
       " 'hit',\n",
       " 'starwood',\n",
       " 'marriott',\n",
       " 'hotel',\n",
       " 'customer',\n",
       " 'card',\n",
       " 'galaxynote',\n",
       " 'airplane',\n",
       " 'microsoft',\n",
       " 'buy',\n",
       " 'genee',\n",
       " 'maker',\n",
       " 'scheduling',\n",
       " 'assistant',\n",
       " 'bot',\n",
       " 'startrek',\n",
       " 'alien',\n",
       " 'actor',\n",
       " 'apple',\n",
       " 'corning',\n",
       " 'gorilla',\n",
       " 'glass',\n",
       " 'smartwatch',\n",
       " 'vlogger',\n",
       " 'year',\n",
       " 'prison',\n",
       " 'pokemongo',\n",
       " 'church',\n",
       " 'apple',\n",
       " 'iwork',\n",
       " 'apple',\n",
       " 'challenger',\n",
       " 'google',\n",
       " 'office',\n",
       " 'tool',\n",
       " 'appleevent',\n",
       " 'london',\n",
       " 'police',\n",
       " 'abuse',\n",
       " 'victim',\n",
       " 'support',\n",
       " 'hub',\n",
       " 'samsung',\n",
       " 'plug',\n",
       " 'milk',\n",
       " 'music',\n",
       " 'service',\n",
       " 'google',\n",
       " 'balloon',\n",
       " 'internet',\n",
       " 'venture',\n",
       " 'project',\n",
       " 'loon',\n",
       " 'leader',\n",
       " 'uber',\n",
       " 'ride',\n",
       " 'court',\n",
       " 'english',\n",
       " 'language',\n",
       " 'test',\n",
       " 'driver',\n",
       " 'president',\n",
       " 'obama',\n",
       " 'cybersecurity',\n",
       " 'chief',\n",
       " 'samsung',\n",
       " 'galaxy',\n",
       " 'note',\n",
       " 'phone',\n",
       " 'scribbler',\n",
       " 'review',\n",
       " 'sweden',\n",
       " 'finland',\n",
       " 'tech',\n",
       " 'company',\n",
       " 'refugee',\n",
       " 'work',\n",
       " 'cnetroadtrip',\n",
       " 'refugeecrisis',\n",
       " 'apple',\n",
       " 'pay',\n",
       " 'app',\n",
       " 'bank',\n",
       " 'security',\n",
       " 'scoop',\n",
       " 'alexa',\n",
       " 'australia',\n",
       " 'refugee',\n",
       " 'tech',\n",
       " 'limbo',\n",
       " 'cnetroadtrip',\n",
       " 'google',\n",
       " 'phone',\n",
       " 'month',\n",
       " 'hacker',\n",
       " 'guccifer',\n",
       " 'president',\n",
       " 'celebrity',\n",
       " 'year',\n",
       " 'prison',\n",
       " 'applewatch',\n",
       " 'watchos',\n",
       " 'apple',\n",
       " 'iphone',\n",
       " 'appleevent',\n",
       " 'iphone',\n",
       " 'hacker',\n",
       " 'jeopardy',\n",
       " 'dick',\n",
       " 'woman',\n",
       " 'cybersecurity',\n",
       " 'apple',\n",
       " 'cook',\n",
       " 'company',\n",
       " 'apple',\n",
       " 'music',\n",
       " 'hit',\n",
       " 'subscriber',\n",
       " 'macos',\n",
       " 'sierra',\n",
       " 'release',\n",
       " 'date',\n",
       " 'mac',\n",
       " 'refugee',\n",
       " 'asylum',\n",
       " 'cnetroadtrip',\n",
       " 'refugeecrisis',\n",
       " 'pokemongo',\n",
       " 'appleevent',\n",
       " 'apps',\n",
       " 'game',\n",
       " 'app',\n",
       " 'store',\n",
       " 'appleevent',\n",
       " 'sweden',\n",
       " 'finland',\n",
       " 'tech',\n",
       " 'company',\n",
       " 'refugee',\n",
       " 'work',\n",
       " 'cnetroadtrip',\n",
       " 'iphone',\n",
       " 'deal',\n",
       " 'lease',\n",
       " 'detail',\n",
       " 'youtube',\n",
       " 'star',\n",
       " 'video',\n",
       " 'instagram',\n",
       " 'user',\n",
       " 'filter',\n",
       " 'comment',\n",
       " 'post',\n",
       " 'goodbye',\n",
       " 'headphone',\n",
       " 'jack',\n",
       " 'iphone',\n",
       " 'ship',\n",
       " 'lightning',\n",
       " 'headphone',\n",
       " 'appleevent',\n",
       " 'apple',\n",
       " 'airpod',\n",
       " 'game',\n",
       " 'iphone',\n",
       " 'time',\n",
       " 'inc',\n",
       " 'medium',\n",
       " 'business',\n",
       " 'person',\n",
       " 'brand',\n",
       " 'refugee',\n",
       " 'tech',\n",
       " 'job',\n",
       " 'asylum',\n",
       " 'cnetroadtrip',\n",
       " 'refugeecrisis',\n",
       " 'change',\n",
       " 'industry',\n",
       " 'sprint',\n",
       " 'talk',\n",
       " 'sexism',\n",
       " 'perception',\n",
       " 'human',\n",
       " 'new',\n",
       " 'york',\n",
       " 'amazon',\n",
       " 'car',\n",
       " 'advice',\n",
       " 'vehicle',\n",
       " 'intel',\n",
       " 'kaby',\n",
       " 'lake',\n",
       " 'processor',\n",
       " 'computer',\n",
       " 'usb',\n",
       " 'type',\n",
       " 'headphone',\n",
       " 'jack',\n",
       " 'appleevent',\n",
       " 'show',\n",
       " 'min',\n",
       " 'tune',\n",
       " 'thank',\n",
       " 'sponsor',\n",
       " 'year',\n",
       " 'apple',\n",
       " 'taxe',\n",
       " 'appletax',\n",
       " 'ireland',\n",
       " 'apple',\n",
       " 'tax',\n",
       " 'demand',\n",
       " 'appletax',\n",
       " 'samsung',\n",
       " 'exchange',\n",
       " 'program',\n",
       " 'recall',\n",
       " 'netflix',\n",
       " 'greenlight',\n",
       " 'strangerthing',\n",
       " 'season',\n",
       " 'tech',\n",
       " 'firm',\n",
       " 'judge',\n",
       " 'skill',\n",
       " 'woman',\n",
       " 'land',\n",
       " 'job',\n",
       " 'interview',\n",
       " 'time',\n",
       " 'apple',\n",
       " 'iphone',\n",
       " 'sale',\n",
       " 'news',\n",
       " 'datum',\n",
       " 'datum',\n",
       " 'money',\n",
       " 'ton',\n",
       " 'samsung',\n",
       " 'holiday',\n",
       " 'item',\n",
       " 'sea',\n",
       " 'friday',\n",
       " 'sprint',\n",
       " 'plan',\n",
       " 'video',\n",
       " 'pandora',\n",
       " 'dial',\n",
       " 'questlove',\n",
       " 'hour',\n",
       " 'radio',\n",
       " 'show',\n",
       " 'questlove',\n",
       " 'supreme',\n",
       " 'fed',\n",
       " 'samsung',\n",
       " 'galaxynote',\n",
       " 'iphone',\n",
       " 'iphone',\n",
       " 'plus',\n",
       " 'applewatch',\n",
       " 'series',\n",
       " 'preorder',\n",
       " 'september',\n",
       " 'microsoft',\n",
       " 'edge',\n",
       " 'browser',\n",
       " 'catch',\n",
       " 'sorry',\n",
       " 'samsung',\n",
       " 'gear',\n",
       " 'type',\n",
       " 'smartwatch',\n",
       " 'future',\n",
       " 'wearable',\n",
       " 'gaming',\n",
       " 'laptop',\n",
       " 'samsung',\n",
       " 'galaxy',\n",
       " 'note',\n",
       " 'year',\n",
       " 'brooklyn',\n",
       " 'google',\n",
       " 'project',\n",
       " 'phone',\n",
       " 'hold',\n",
       " 'samsung',\n",
       " 'galaxy',\n",
       " 'note',\n",
       " 'phone',\n",
       " 'market']"
      ]
     },
     "execution_count": 19,
     "metadata": {},
     "output_type": "execute_result"
    }
   ],
   "source": [
    "preprocess_text(train['message'][0])"
   ]
  },
  {
   "cell_type": "markdown",
   "metadata": {},
   "source": [
    "Apply function to all tweets in our training dataframe"
   ]
  },
  {
   "cell_type": "code",
   "execution_count": 20,
   "metadata": {
    "collapsed": true
   },
   "outputs": [],
   "source": [
    "train_texts = train['message'].apply(preprocess_text)"
   ]
  },
  {
   "cell_type": "markdown",
   "metadata": {},
   "source": [
    "Bigram collocation can detect words which frequently occur together and know whether they are in fact the same entity"
   ]
  },
  {
   "cell_type": "code",
   "execution_count": 21,
   "metadata": {
    "collapsed": true
   },
   "outputs": [],
   "source": [
    "bigram = Phrases(train_texts)  # For collocation detection"
   ]
  },
  {
   "cell_type": "code",
   "execution_count": 33,
   "metadata": {
    "collapsed": false
   },
   "outputs": [
    {
     "data": {
      "text/plain": [
       "[u'hillary_clinton']"
      ]
     },
     "execution_count": 33,
     "metadata": {},
     "output_type": "execute_result"
    }
   ],
   "source": [
    "bigram['hillary', 'clinton']"
   ]
  },
  {
   "cell_type": "markdown",
   "metadata": {},
   "source": [
    "As we can see, the bigram collocation has figured out that the words 'hillary' and 'clinton' refer to the same entity that is 'Hillary Clinton' the politician."
   ]
  },
  {
   "cell_type": "code",
   "execution_count": 24,
   "metadata": {
    "collapsed": false
   },
   "outputs": [],
   "source": [
    "train_texts = [bigram[profile] for profile in train_texts]"
   ]
  },
  {
   "cell_type": "markdown",
   "metadata": {},
   "source": [
    "You can notice the other bigram collocations below for the sports category"
   ]
  },
  {
   "cell_type": "code",
   "execution_count": 27,
   "metadata": {
    "collapsed": false
   },
   "outputs": [
    {
     "data": {
      "text/plain": [
       "[u'hart',\n",
       " u'debut',\n",
       " u'blunder',\n",
       " u'equaliser',\n",
       " u'watch',\n",
       " u'nottingham_forest',\n",
       " u'hildeberto',\n",
       " u'pereira',\n",
       " u'goal',\n",
       " u'leicester',\n",
       " u'set',\n",
       " u'fixture',\n",
       " u'mnf',\n",
       " u'team',\n",
       " u'look',\n",
       " u'analysis',\n",
       " u'watch',\n",
       " u'jamie_carragher',\n",
       " u'rooney',\n",
       " u'battle',\n",
       " u'man',\n",
       " u'team',\n",
       " u'mnf',\n",
       " u'watch',\n",
       " u'football',\n",
       " u'boy',\n",
       " u'moment',\n",
       " u'tune',\n",
       " u'chelsea_swansea',\n",
       " u'action',\n",
       " u'sky_sport',\n",
       " u'tune',\n",
       " u'post',\n",
       " u'match',\n",
       " u'analysis',\n",
       " u'everton',\n",
       " u'sunderland',\n",
       " u'sky_sport',\n",
       " u'mnf',\n",
       " u'everton',\n",
       " u'ross',\n",
       " u'barkley',\n",
       " u'cfc',\n",
       " u'swan',\n",
       " u'terry',\n",
       " u'azpilicueta',\n",
       " u'kante',\n",
       " u'oscar',\n",
       " u'hazard',\n",
       " u'diego_costa',\n",
       " u'skyfootball',\n",
       " u'barcelona',\n",
       " u'striker',\n",
       " u'neymar',\n",
       " u'release',\n",
       " u'debut',\n",
       " u'zlatan',\n",
       " u'ibrahimovic',\n",
       " u'patience',\n",
       " u'marcus',\n",
       " u'claudio',\n",
       " u'debate',\n",
       " u'thumb',\n",
       " u'pep_guardiola',\n",
       " u'thumb',\n",
       " u'graeme',\n",
       " u'souness',\n",
       " u'villa',\n",
       " u'remain',\n",
       " u'club',\n",
       " u'fulham',\n",
       " u'half',\n",
       " u'goal',\n",
       " u'season',\n",
       " u'mnf',\n",
       " u'rehearsal',\n",
       " u'manchester_derby',\n",
       " u'mnf',\n",
       " u'treatment',\n",
       " u'man_city',\n",
       " u'star',\n",
       " u'graeme',\n",
       " u'souness',\n",
       " u'everton',\n",
       " u'game',\n",
       " u'time',\n",
       " u'sunderland',\n",
       " u'game',\n",
       " u'win',\n",
       " u'jamie_carragher',\n",
       " u'paul_pogba',\n",
       " u'manchester_derby',\n",
       " u'performance',\n",
       " u'man',\n",
       " u'match',\n",
       " u'romelu_lukaku',\n",
       " u'touch',\n",
       " u'shot',\n",
       " u'target',\n",
       " u'club',\n",
       " u'career',\n",
       " u'hat',\n",
       " u'expert',\n",
       " u'ross',\n",
       " u'barkley',\n",
       " u'monday',\n",
       " u'night_football',\n",
       " u'dream',\n",
       " u'debut',\n",
       " u'mario',\n",
       " u'balotelli',\n",
       " u'match',\n",
       " u'winning',\n",
       " u'display',\n",
       " u'watch',\n",
       " u'jamie_carragher',\n",
       " u'paul_pogba',\n",
       " u'manchester_derby',\n",
       " u'performance',\n",
       " u'kid',\n",
       " u'schoolyard',\n",
       " u'coleman',\n",
       " u'return',\n",
       " u'team',\n",
       " u'moye',\n",
       " u'everton',\n",
       " u'gareth',\n",
       " u'barry',\n",
       " u'app',\n",
       " u'number',\n",
       " u'ham',\n",
       " u'disrespect',\n",
       " u'watford',\n",
       " u'player',\n",
       " u'saturday',\n",
       " u'hat_trick',\n",
       " u'hero',\n",
       " u'goal',\n",
       " u'efc',\n",
       " u'month',\n",
       " u'game',\n",
       " u'watch',\n",
       " u'goal',\n",
       " u'saturday',\n",
       " u'game',\n",
       " u'comeback',\n",
       " u'swan',\n",
       " u'cfc',\n",
       " u'fabianski',\n",
       " u'naughton',\n",
       " u'fernandez',\n",
       " u'amat',\n",
       " u'taylor',\n",
       " u'cork',\n",
       " u'sigurdsson',\n",
       " u'kingsley',\n",
       " u'llorente',\n",
       " u'skyfootball',\n",
       " u'tonight',\n",
       " u'mascot',\n",
       " u'medium',\n",
       " u'family',\n",
       " u'try',\n",
       " u'fund',\n",
       " u'finish',\n",
       " u'gestede',\n",
       " u'lead',\n",
       " u'sunderland_everton',\n",
       " u'romelu_lukaku',\n",
       " u'star',\n",
       " u'show',\n",
       " u'romp',\n",
       " u'watch',\n",
       " u'neville',\n",
       " u'brother',\n",
       " u'man_city',\n",
       " u'manager',\n",
       " u'manuel',\n",
       " u'pellegrini',\n",
       " u'game',\n",
       " u'china',\n",
       " u'fortune',\n",
       " u'boss',\n",
       " u'bunn',\n",
       " u'gollini',\n",
       " u'goal',\n",
       " u'avfc',\n",
       " u'watch',\n",
       " u'action',\n",
       " u'sky_sport',\n",
       " u'mnf',\n",
       " u'sunderland_everton',\n",
       " u'blog',\n",
       " u'year',\n",
       " u'bale',\n",
       " u'man',\n",
       " u'stat',\n",
       " u'watch',\n",
       " u'john_terry',\n",
       " u'liberty',\n",
       " u'stadium',\n",
       " u'crutch',\n",
       " u'chelsea_swansea',\n",
       " u'watch',\n",
       " u'twitter',\n",
       " u'question',\n",
       " u'mnf',\n",
       " u'ham',\n",
       " u'ban',\n",
       " u'fan',\n",
       " u'crowd',\n",
       " u'disturbance',\n",
       " u'defeat',\n",
       " u'win',\n",
       " u'man_city',\n",
       " u'arsenal',\n",
       " u'champion_league',\n",
       " u'prediction',\n",
       " u'idrissa',\n",
       " u'gueye',\n",
       " u'impression',\n",
       " u'analysis',\n",
       " u'sky_sport',\n",
       " u'statue',\n",
       " u'watch',\n",
       " u'nottingham_forest',\n",
       " u'hildeberto',\n",
       " u'pereira',\n",
       " u'goal',\n",
       " u'manchester_derby',\n",
       " u'defeat',\n",
       " u'look',\n",
       " u'shot',\n",
       " u'target',\n",
       " u'season',\n",
       " u'lukaku',\n",
       " u'llorente',\n",
       " u'sturridge',\n",
       " u'townsend',\n",
       " u'romelu_lukaku',\n",
       " u'player',\n",
       " u'hat_trick',\n",
       " u'everton',\n",
       " u'sunderland',\n",
       " u'arouna',\n",
       " u'kone',\n",
       " u'http',\n",
       " u'schoolyard',\n",
       " u'manchester_derby',\n",
       " u'performance',\n",
       " u'mufc',\n",
       " u'mnf',\n",
       " u'touch',\n",
       " u'class',\n",
       " u'cause',\n",
       " u'tonight',\n",
       " u'mascot',\n",
       " u'today',\n",
       " u'sunday',\n",
       " u'swansea',\n",
       " u'sky_sport',\n",
       " u'story',\n",
       " u'match',\n",
       " u'watch',\n",
       " u'jamie_carragher',\n",
       " u'man',\n",
       " u'paul_pogba',\n",
       " u'goal',\n",
       " u'aston',\n",
       " u'villa_nottingham',\n",
       " u'forest',\n",
       " u'vellio',\n",
       " u'sky_sport',\n",
       " u'chelsea',\n",
       " u'liverpool',\n",
       " u'night',\n",
       " u'cheliv',\n",
       " u'goal',\n",
       " u'goal',\n",
       " u'swansea_chelsea',\n",
       " u'costa',\n",
       " u'sky_sport',\n",
       " u'arsenal',\n",
       " u'champion_league',\n",
       " u'arsene',\n",
       " u'diego_costa',\n",
       " u'conte',\n",
       " u'chelsea',\n",
       " u'look',\n",
       " u'watch',\n",
       " u'diego_costa',\n",
       " u'overhead',\n",
       " u'kick',\n",
       " u'chelsea_swansea',\n",
       " u'watch',\n",
       " u'moye',\n",
       " u'sunderland',\n",
       " u'failure',\n",
       " u'basic',\n",
       " u'everton',\n",
       " u'update',\n",
       " u'host',\n",
       " u'nffc',\n",
       " u'sky',\n",
       " u'bet',\n",
       " u'championship',\n",
       " u'watch',\n",
       " u'view',\n",
       " u'arsenal',\n",
       " u'penalty',\n",
       " u'southampton',\n",
       " u'analysis',\n",
       " u'feature',\n",
       " u'bale',\n",
       " u'improvement',\n",
       " u'madrid',\n",
       " u'everton',\n",
       " u'ross',\n",
       " u'barkley',\n",
       " u'mnf',\n",
       " u'pep_guardiola',\n",
       " u'man_city',\n",
       " u'europe',\n",
       " u'form',\n",
       " u'diego_costa',\n",
       " u'tune',\n",
       " u'sky_sport',\n",
       " u'swansea_chelsea',\n",
       " u'luis',\n",
       " u'suarez',\n",
       " u'game',\n",
       " u'barcelona',\n",
       " u'star',\n",
       " u'cristiano_ronaldo',\n",
       " u'record',\n",
       " u'chelsea',\n",
       " u'team',\n",
       " u'game',\n",
       " u'season',\n",
       " u'mcfc',\n",
       " u'minute',\n",
       " u'mufc',\n",
       " u'viewing',\n",
       " u'chelsea',\n",
       " u'goal',\n",
       " u'shot',\n",
       " u'target',\n",
       " u'season',\n",
       " u'watch',\n",
       " u'ross',\n",
       " u'mccormack',\n",
       " u'equaliser',\n",
       " u'thing',\n",
       " u'avfc',\n",
       " u'watch',\n",
       " u'chelsea',\n",
       " u'striker',\n",
       " u'diego_costa',\n",
       " u'dive',\n",
       " u'swansea',\n",
       " u'coverage',\n",
       " u'villa',\n",
       " u'forest',\n",
       " u'story',\n",
       " u'match',\n",
       " u'htt',\n",
       " u'brendan',\n",
       " u'rodger',\n",
       " u'barcelona',\n",
       " u'luis',\n",
       " u'suarez',\n",
       " u'world',\n",
       " u'player',\n",
       " u'man',\n",
       " u'match',\n",
       " u'chelsea',\n",
       " u'diego_costa',\n",
       " u'touch',\n",
       " u'foul',\n",
       " u'shot',\n",
       " u'goal',\n",
       " u'top',\n",
       " u'scorer',\n",
       " u'season',\n",
       " u'watch',\n",
       " u'romelu_lukaku',\n",
       " u'everton',\n",
       " u'season',\n",
       " u'chelsea',\n",
       " u'goal',\n",
       " u'attempt',\n",
       " u'half',\n",
       " u'outfield',\n",
       " u'player',\n",
       " u'terry',\n",
       " u'shot',\n",
       " u'everton',\n",
       " u'sunderland',\n",
       " u'stekelenburg',\n",
       " u'baine',\n",
       " u'jagielka',\n",
       " u'coleman',\n",
       " u'barry',\n",
       " u'gueye',\n",
       " u'bolasie',\n",
       " u'barkley',\n",
       " u'miralla',\n",
       " u'tonight',\n",
       " u'night_football',\n",
       " u'sunderland',\n",
       " u'sky_sport',\n",
       " u'story',\n",
       " u'match',\n",
       " u'niall',\n",
       " u'quinn',\n",
       " u'mourinho',\n",
       " u'post',\n",
       " u'match',\n",
       " u'quote',\n",
       " u'contrast',\n",
       " u'approach',\n",
       " u'guardiola',\n",
       " u'ferguson',\n",
       " u'watch',\n",
       " u'ronald',\n",
       " u'koeman',\n",
       " u'europe',\n",
       " u'aim',\n",
       " u'video',\n",
       " u'manchester',\n",
       " u'record',\n",
       " u'revenue',\n",
       " u'analysis',\n",
       " u'feature',\n",
       " u'bale',\n",
       " u'improvement',\n",
       " u'madrid',\n",
       " u'watch',\n",
       " u'phil',\n",
       " u'moye',\n",
       " u'window',\n",
       " u'player',\n",
       " u'aston',\n",
       " u'villa_nottingham',\n",
       " u'forest',\n",
       " u'goal',\n",
       " u'equaliser',\n",
       " u'kane',\n",
       " u'championsleague',\n",
       " u'ben',\n",
       " u'davy',\n",
       " u'goal',\n",
       " u'sunderland_everton',\n",
       " u'lukaku',\n",
       " u'watch',\n",
       " u'sky_sport',\n",
       " u'watch',\n",
       " u'john_terry',\n",
       " u'liberty',\n",
       " u'stadium',\n",
       " u'crutch',\n",
       " u'chelsea_swansea',\n",
       " u'antonio',\n",
       " u'conte',\n",
       " u'francesco',\n",
       " u'guidolin',\n",
       " u'team',\n",
       " u'occasion',\n",
       " u'juventus',\n",
       " u'udinese',\n",
       " u'agg',\n",
       " u'zlatan',\n",
       " u'ibrahimovic',\n",
       " u'paul_pogba',\n",
       " u'critic',\n",
       " u'word',\n",
       " u'right',\n",
       " u'man',\n",
       " u'utd',\n",
       " u'deserve',\n",
       " u'penalty',\n",
       " u'man_city',\n",
       " u'watch',\n",
       " u'expert',\n",
       " u'goal',\n",
       " u'aston',\n",
       " u'villa_nottingham',\n",
       " u'forest',\n",
       " u'mccormack',\n",
       " u'sky_sport',\n",
       " u'goal',\n",
       " u'swansea',\n",
       " u'diego_costa',\n",
       " u'oscar',\n",
       " u'manchester',\n",
       " u'account',\n",
       " u'schweinsteiger',\n",
       " u'asset',\n",
       " u'premier_league',\n",
       " u'grade',\n",
       " u'verdict',\n",
       " u'start',\n",
       " u'premier_league',\n",
       " u'season',\n",
       " u'analysis',\n",
       " u'blog',\n",
       " u'analysis',\n",
       " u'feature',\n",
       " u'bale',\n",
       " u'improvement',\n",
       " u'madrid',\n",
       " u'premier_league',\n",
       " u'goal',\n",
       " u'week',\n",
       " u'michail',\n",
       " u'antonio',\n",
       " u'lallana',\n",
       " u'jack',\n",
       " u'butland',\n",
       " u'look',\n",
       " u'stat',\n",
       " u'analysis',\n",
       " u'http',\n",
       " u'diego_costa',\n",
       " u'score',\n",
       " u'goal',\n",
       " u'season',\n",
       " u'dec',\n",
       " u'figure',\n",
       " u'season',\n",
       " u'phil',\n",
       " u'neville',\n",
       " u'jamie_carragher',\n",
       " u'sunderland_everton',\n",
       " u'luis',\n",
       " u'suarez',\n",
       " u'game',\n",
       " u'barcelona',\n",
       " u'star',\n",
       " u'cristiano_ronaldo',\n",
       " u'record',\n",
       " u'niall',\n",
       " u'quinn',\n",
       " u'mourinho',\n",
       " u'post',\n",
       " u'match',\n",
       " u'quote',\n",
       " u'contrast',\n",
       " u'approach',\n",
       " u'guardiola',\n",
       " u'ferguson',\n",
       " u'laurent',\n",
       " u'birthday',\n",
       " u'cracker',\n",
       " u'saintfc',\n",
       " u'saturday',\n",
       " u'watch',\n",
       " u'jamie_carragher',\n",
       " u'romelu',\n",
       " u'display',\n",
       " u'sunderland',\n",
       " u'lukaku',\n",
       " u'applause',\n",
       " u'stage',\n",
       " u'swansea_chelsea',\n",
       " u'diego_costa',\n",
       " u'goal',\n",
       " u'difference',\n",
       " u'zlatan',\n",
       " u'ibrahimovic',\n",
       " u'patience',\n",
       " u'marcus',\n",
       " u'rashford',\n",
       " u'everton',\n",
       " u'donate',\n",
       " u'page',\n",
       " u'goal',\n",
       " u'aston',\n",
       " u'villa_nottingham',\n",
       " u'forest',\n",
       " u'sky_sport',\n",
       " u'sky',\n",
       " u'bet',\n",
       " u'efl',\n",
       " u'goal',\n",
       " u'month',\n",
       " u'vote',\n",
       " u'finish',\n",
       " u'goal',\n",
       " u'sunderland_everton',\n",
       " u'lukaku',\n",
       " u'watch',\n",
       " u'sky_sport',\n",
       " u'everton',\n",
       " u'donate',\n",
       " u'page',\n",
       " u'mnf',\n",
       " u'return',\n",
       " u'break',\n",
       " u'send',\n",
       " u'question',\n",
       " u'use',\n",
       " u'mnf',\n",
       " u'neville',\n",
       " u'jamie',\n",
       " u'http',\n",
       " u'gylfi',\n",
       " u'sigurdsson',\n",
       " u'penalty',\n",
       " u'swansea',\n",
       " u'watch',\n",
       " u'jamie_carragher',\n",
       " u'sunderland',\n",
       " u'team',\n",
       " u'lamine',\n",
       " u'kone',\n",
       " u'villa_nottingham',\n",
       " u'forest',\n",
       " u'half',\n",
       " u'time',\n",
       " u'reaction',\n",
       " u'sky_sport',\n",
       " u'pep_guardiola',\n",
       " u'man_city',\n",
       " u'europe',\n",
       " u'form',\n",
       " u'thing',\n",
       " u'lionel',\n",
       " u'messi',\n",
       " u'andre',\n",
       " u'iniesta',\n",
       " u'tune',\n",
       " u'half',\n",
       " u'sunderland_everton',\n",
       " u'hart',\n",
       " u'debut',\n",
       " u'blunder',\n",
       " u'equaliser',\n",
       " u'mufc',\n",
       " u'player',\n",
       " u'passenger',\n",
       " u'signing',\n",
       " u'debut',\n",
       " u'boy',\n",
       " u'sunderland_everton',\n",
       " u'fan',\n",
       " u'support',\n",
       " u'mnf',\n",
       " u'watch',\n",
       " u'vellio',\n",
       " u'nffc',\n",
       " u'thunderbolt',\n",
       " u'romelu_lukaku',\n",
       " u'goal',\n",
       " u'everton',\n",
       " u'march',\n",
       " u'sunderland',\n",
       " u'defoe',\n",
       " u'away',\n",
       " u'home',\n",
       " u'goal',\n",
       " u'jan',\n",
       " u'report',\n",
       " u'diego_costa',\n",
       " u'rescue',\n",
       " u'point',\n",
       " u'antonio',\n",
       " u'side',\n",
       " u'wayne_rooney',\n",
       " u'england',\n",
       " u'mufc',\n",
       " u'watch',\n",
       " u'ross',\n",
       " u'mccormack',\n",
       " u'deadlock',\n",
       " u'villa',\n",
       " u'watch',\n",
       " u'life',\n",
       " u'spain',\n",
       " u'challenge',\n",
       " u'team',\n",
       " u'liga',\n",
       " u'demand',\n",
       " u'london',\n",
       " u'bus',\n",
       " u'sunderland_everton',\n",
       " u'watch',\n",
       " u'romelu_lukaku',\n",
       " u'goal',\n",
       " u'everton',\n",
       " u'live',\n",
       " u'avfc',\n",
       " u'nffc',\n",
       " u'action',\n",
       " u'half',\n",
       " u'swansea_chelsea',\n",
       " u'sky_sport',\n",
       " u'raheem',\n",
       " u'sterling',\n",
       " u'pep_guardiola',\n",
       " u'graeme',\n",
       " u'souness',\n",
       " u'mcfc',\n",
       " u'midfielder',\n",
       " u'star',\n",
       " u'gary',\n",
       " u'plan',\n",
       " u'football',\n",
       " u'coaching',\n",
       " u'stint',\n",
       " u'watch',\n",
       " u'cahill',\n",
       " u'leroy',\n",
       " u'swansea',\n",
       " u'goal',\n",
       " u'goal',\n",
       " u'chelsea',\n",
       " u'game',\n",
       " u'decision',\n",
       " u'watch',\n",
       " u'paul_pogba',\n",
       " u'manchester_derby',\n",
       " u'performance',\n",
       " u'mnf',\n",
       " u'premier_league',\n",
       " u'goal',\n",
       " u'week',\n",
       " u'vote',\n",
       " u'favourite',\n",
       " u'watch',\n",
       " u'nottingham_forest',\n",
       " u'hildeberto',\n",
       " u'pereira',\n",
       " u'goal',\n",
       " u'expert',\n",
       " u'ross',\n",
       " u'barkley',\n",
       " u'monday',\n",
       " u'night_football',\n",
       " u'arsenal',\n",
       " u'tonight',\n",
       " u'man_city',\n",
       " u'champion_league',\n",
       " u'prediction',\n",
       " u'era',\n",
       " u'cristiano_ronaldo',\n",
       " u'gary',\n",
       " u'valencia',\n",
       " u'coach',\n",
       " u'scfc',\n",
       " u'boss',\n",
       " u'mark',\n",
       " u'hughe',\n",
       " u'behaviour',\n",
       " u'thfc',\n",
       " u'surprise',\n",
       " u'hinchcliffe',\n",
       " u'tension',\n",
       " u'trafford',\n",
       " u'wayne_rooney',\n",
       " u'pep_guardiola',\n",
       " u'prediction',\n",
       " u'championsleague',\n",
       " u'win',\n",
       " u'ucl',\n",
       " u'goal',\n",
       " u'diego_costa',\n",
       " u'laurent',\n",
       " u'koscielny',\n",
       " u'watch',\n",
       " u'coaching',\n",
       " u'stint',\n",
       " u'milestone',\n",
       " u'goal',\n",
       " u'top',\n",
       " u'scorer',\n",
       " u'michu',\n",
       " u'team',\n",
       " u'news',\n",
       " u'reminder',\n",
       " u'chelsea_swansea',\n",
       " u'clash',\n",
       " u'plenty',\n",
       " u'sport',\n",
       " u'month',\n",
       " u'half',\n",
       " u'price',\n",
       " u'reading',\n",
       " u'stat',\n",
       " u'weekend',\n",
       " u'ssnhq',\n",
       " u'watch',\n",
       " u'john_terry',\n",
       " u'liberty',\n",
       " u'stadium',\n",
       " u'crutch',\n",
       " u'chelsea_swansea',\n",
       " u'chelsea',\n",
       " u'substitute',\n",
       " u'today',\n",
       " u'cap',\n",
       " u'transfer',\n",
       " u'centre',\n",
       " u'kyle',\n",
       " u'walker',\n",
       " u'deal',\n",
       " u'thfc',\n",
       " u'hart',\n",
       " u'debut',\n",
       " u'torino',\n",
       " u'afternoon',\n",
       " u'lallana',\n",
       " u'koscielny',\n",
       " u'watch',\n",
       " u'vote',\n",
       " u'premier_league',\n",
       " u'goal',\n",
       " u'week',\n",
       " u'watch',\n",
       " u'preview',\n",
       " u'sunderland_everton',\n",
       " u'studio',\n",
       " u'sky_sport',\n",
       " u'watch',\n",
       " u'one',\n",
       " u'spell',\n",
       " u'charge',\n",
       " u'arsenal',\n",
       " u'club',\n",
       " u'eddie',\n",
       " u'moment',\n",
       " u'ray',\n",
       " u'parlour',\n",
       " u'gary',\n",
       " u'manchester_derby',\n",
       " u'verdict',\n",
       " u'title',\n",
       " u'goal',\n",
       " u'costa',\n",
       " u'play',\n",
       " u'watch',\n",
       " u'antonio',\n",
       " u'conte',\n",
       " u'build',\n",
       " u'swan',\n",
       " u'goal',\n",
       " u'highlight',\n",
       " u'yesterday',\n",
       " u'premier_league',\n",
       " u'game',\n",
       " u'demand',\n",
       " u'phil',\n",
       " u'neville',\n",
       " u'barkley',\n",
       " u'path',\n",
       " u'greatness',\n",
       " u'watch',\n",
       " u'mnf',\n",
       " u'swansea',\n",
       " u'cahill',\n",
       " u'build',\n",
       " u'sunderland',\n",
       " u'bring',\n",
       " u'kirchhoff',\n",
       " u'app',\n",
       " u'tonight',\n",
       " u'everton',\n",
       " u'htt',\n",
       " u'watch',\n",
       " u'henri',\n",
       " u'lansbury',\n",
       " u'equaliser',\n",
       " u'sunderland_everton',\n",
       " u'pickford',\n",
       " u'manquillo',\n",
       " u'van',\n",
       " u'aanholt',\n",
       " u'djilobodji',\n",
       " u'kone',\n",
       " u'kirchhoff',\n",
       " u'rodwell',\n",
       " u'gooch',\n",
       " u'januzaj',\n",
       " u'cfc',\n",
       " u'signing',\n",
       " u'marco',\n",
       " u'reception',\n",
       " u'deal',\n",
       " u'sense',\n",
       " u'please',\n",
       " u'name',\n",
       " u'game',\n",
       " u'klopp',\n",
       " u'plea',\n",
       " u'fan',\n",
       " u'goal',\n",
       " u'swansea_chelsea',\n",
       " u'sigurdsson',\n",
       " u'penalty',\n",
       " u'sky_sport',\n",
       " u'goal',\n",
       " u'chelsea',\n",
       " u'game',\n",
       " u'decision',\n",
       " u'goal',\n",
       " u'saturday',\n",
       " u'action',\n",
       " u'goal',\n",
       " u'aston',\n",
       " u'villa_nottingham',\n",
       " u'forest',\n",
       " u'lansbury',\n",
       " u'sky_sport',\n",
       " u'chelsea',\n",
       " u'touch',\n",
       " u'swansea',\n",
       " u'penalty',\n",
       " u'area',\n",
       " u'season',\n",
       " u'chelsea',\n",
       " u'home',\n",
       " u'burnley',\n",
       " u'dream',\n",
       " u'debut',\n",
       " u'mario',\n",
       " u'balotelli',\n",
       " u'match',\n",
       " u'winning',\n",
       " u'display',\n",
       " u'sky',\n",
       " u'bet',\n",
       " u'efl',\n",
       " u'goal',\n",
       " u'month',\n",
       " u'vote',\n",
       " u'finish',\n",
       " u'picture',\n",
       " u'everton',\n",
       " u'opening',\n",
       " u'sunderland',\n",
       " u'action',\n",
       " u'watch',\n",
       " u'phil',\n",
       " u'neville',\n",
       " u'koeman',\n",
       " u'signing',\n",
       " u'summer',\n",
       " u'everton',\n",
       " u'championship',\n",
       " u'goal',\n",
       " u'belter']"
      ]
     },
     "execution_count": 27,
     "metadata": {},
     "output_type": "execute_result"
    }
   ],
   "source": [
    "train_texts[100]"
   ]
  },
  {
   "cell_type": "code",
   "execution_count": 30,
   "metadata": {
    "collapsed": false
   },
   "outputs": [
    {
     "data": {
      "text/plain": [
       "152"
      ]
     },
     "execution_count": 30,
     "metadata": {},
     "output_type": "execute_result"
    }
   ],
   "source": [
    "len(train_texts)"
   ]
  },
  {
   "cell_type": "code",
   "execution_count": 95,
   "metadata": {
    "collapsed": false
   },
   "outputs": [],
   "source": [
    "test_texts = test['message'].apply(preprocess_text)\n",
    "test_texts = [bigram[message] for message in test_texts]"
   ]
  },
  {
   "cell_type": "markdown",
   "metadata": {},
   "source": [
    "# Set up helper functions for classification evaluation\n",
    "It is important to choose an evaluation metric to compare our models. We will choose accuracy here however other metrics such as F-Measure can also be used depending on the use-case of the model."
   ]
  },
  {
   "cell_type": "code",
   "execution_count": 81,
   "metadata": {
    "collapsed": true
   },
   "outputs": [],
   "source": [
    "from sklearn.metrics import accuracy_score, confusion_matrix"
   ]
  },
  {
   "cell_type": "code",
   "execution_count": 82,
   "metadata": {
    "collapsed": false
   },
   "outputs": [],
   "source": [
    "my_tags = pycon_dict.keys()"
   ]
  },
  {
   "cell_type": "code",
   "execution_count": 92,
   "metadata": {
    "collapsed": true
   },
   "outputs": [],
   "source": [
    "categories = train['category']"
   ]
  },
  {
   "cell_type": "code",
   "execution_count": 83,
   "metadata": {
    "collapsed": false
   },
   "outputs": [],
   "source": [
    "def plot_confusion_matrix(cm, title='Confusion matrix', cmap=plt.cm.Blues):\n",
    "    plt.imshow(cm, interpolation='nearest', cmap=cmap)\n",
    "    plt.title(title)\n",
    "    plt.colorbar()\n",
    "    tick_marks = np.arange(len(my_tags))\n",
    "    target_names = my_tags\n",
    "    plt.xticks(tick_marks, target_names, rotation=90)\n",
    "    plt.yticks(tick_marks, target_names)\n",
    "    plt.ylabel('True label')\n",
    "    plt.xlabel('Predicted label')"
   ]
  },
  {
   "cell_type": "code",
   "execution_count": 84,
   "metadata": {
    "collapsed": true
   },
   "outputs": [],
   "source": [
    "def evaluate_prediction(predictions, target, title=\"Confusion matrix\"):\n",
    "    print('accuracy %s' % accuracy_score(target, predictions))\n",
    "    cm = confusion_matrix(target, predictions)\n",
    "    print('confusion matrix\\n %s' % cm)\n",
    "    print('(row=expected, col=predicted)')\n",
    "    \n",
    "    cm_normalized = cm.astype('float') / cm.sum(axis=1)[:, np.newaxis]\n",
    "    plot_confusion_matrix(cm_normalized, title + ' Normalized')"
   ]
  },
  {
   "cell_type": "code",
   "execution_count": 100,
   "metadata": {
    "collapsed": true
   },
   "outputs": [],
   "source": [
    "def most_influential_words(clf, vectorizer, category_index=0, num_words=10):\n",
    "    features = vectorizer.get_feature_names()\n",
    "    max_coef = sorted(enumerate(clf.coef_[category_index]), key=lambda x:x[1], reverse=True)\n",
    "    return [features[x[0]] for x in max_coef[:num_words]]    "
   ]
  },
  {
   "cell_type": "markdown",
   "metadata": {},
   "source": [
    "# Let's build our first classification model\n",
    "__Note__: We will be using `LogisticRegression` throughout this tutorial. I would also encourage you to try out the new `MLPClassifier` released as part of `scikit-learn 0.18`. This uses a neural network for classification and is a very powerful tool for learning complex non-linear functions.\n",
    "\n",
    "# Bag of words with LogisticRegression\n",
    "It sometimes important in any machine learning task to set up a baseline model in as little time as possible. This can help us gauge how much better our ideal model should be. It can also help us find out the areas where we need to work on to make our model better. Would bringing in more data help? Would making our preprocessing better help? Such questions can be answered more accurately. There are many ways to find out the answers to these questions however they lie of of scope for this tutorial\n",
    "\n",
    "We will be using bag of words first as it is the simplest document feature which is available. It is simply a word occurence matrix across all the words and all the documents."
   ]
  },
  {
   "cell_type": "code",
   "execution_count": 87,
   "metadata": {
    "collapsed": false
   },
   "outputs": [],
   "source": [
    "from sklearn.feature_extraction.text import CountVectorizer\n",
    "from sklearn.linear_model import LogisticRegression"
   ]
  },
  {
   "cell_type": "markdown",
   "metadata": {},
   "source": [
    "We'll only take the most significant 5000 features."
   ]
  },
  {
   "cell_type": "code",
   "execution_count": 88,
   "metadata": {
    "collapsed": true
   },
   "outputs": [],
   "source": [
    "count_vectorizer = CountVectorizer(max_features=5000)"
   ]
  },
  {
   "cell_type": "code",
   "execution_count": 89,
   "metadata": {
    "collapsed": true
   },
   "outputs": [],
   "source": [
    "train_count_features = count_vectorizer.fit_transform(' '.join(text) for text in train_texts)"
   ]
  },
  {
   "cell_type": "code",
   "execution_count": 90,
   "metadata": {
    "collapsed": true
   },
   "outputs": [],
   "source": [
    "clf_count = LogisticRegression()"
   ]
  },
  {
   "cell_type": "code",
   "execution_count": 93,
   "metadata": {
    "collapsed": false
   },
   "outputs": [],
   "source": [
    "clf_count = clf_count.fit(train_count_features, categories)"
   ]
  },
  {
   "cell_type": "code",
   "execution_count": 96,
   "metadata": {
    "collapsed": false,
    "scrolled": true
   },
   "outputs": [],
   "source": [
    "test_count_features = count_vectorizer.transform(' '.join(text) for text in test_texts)"
   ]
  },
  {
   "cell_type": "code",
   "execution_count": 97,
   "metadata": {
    "collapsed": true
   },
   "outputs": [],
   "source": [
    "predictions = clf_count.predict(test_count_features)"
   ]
  },
  {
   "cell_type": "code",
   "execution_count": 98,
   "metadata": {
    "collapsed": false
   },
   "outputs": [
    {
     "name": "stdout",
     "output_type": "stream",
     "text": [
      "accuracy 0.934210526316\n",
      "confusion matrix\n",
      " [[18  0  0  0  1  0  0  1]\n",
      " [ 0 21  0  0  0  0  0  0]\n",
      " [ 0  2 16  0  0  0  0  0]\n",
      " [ 0  0  0 19  0  0  0  0]\n",
      " [ 1  0  0  0 18  0  0  0]\n",
      " [ 2  0  2  0  0 15  0  1]\n",
      " [ 0  0  0  0  0  0 17  0]\n",
      " [ 0  0  0  0  0  0  0 18]]\n",
      "(row=expected, col=predicted)\n"
     ]
    },
    {
     "data": {
      "image/png": "[encoded data removed]",
      "text/plain": [
       "<matplotlib.figure.Figure at 0x7f646271dc10>"
      ]
     },
     "metadata": {},
     "output_type": "display_data"
    }
   ],
   "source": [
    "evaluate_prediction(predictions, test['category'])"
   ]
  },
  {
   "cell_type": "markdown",
   "metadata": {},
   "source": [
    "Greater than 90% accuracy is great for our first model!\n",
    "\n",
    "__Why did it work__? Twitter benchmark users of any particular category tweet in a very distinct way. As we saw above, users in the \"Music\" category are more likely to use words like \"performance\" or \"album\" more. Similarly users in the \"Politics\" category tend to use words like \"policy\" more. Bag of words can catch this quite brilliantly! We can see evidence of this below."
   ]
  },
  {
   "cell_type": "code",
   "execution_count": 101,
   "metadata": {
    "collapsed": false
   },
   "outputs": [
    {
     "data": {
      "text/plain": [
       "[u'earth',\n",
       " u'science',\n",
       " u'space',\n",
       " u'scientist',\n",
       " u'alien',\n",
       " u'bone',\n",
       " u'panel',\n",
       " u'book',\n",
       " u'study',\n",
       " u'astronaut']"
      ]
     },
     "execution_count": 101,
     "metadata": {},
     "output_type": "execute_result"
    }
   ],
   "source": [
    "most_influential_words(clf_count, count_vectorizer, category_index=7)  # Top words for science category"
   ]
  },
  {
   "cell_type": "markdown",
   "metadata": {},
   "source": [
    "# [TF-IDF](https://en.wikipedia.org/wiki/Tf%E2%80%93idf) with LogisticRegression\n",
    "This is a slightly more advanced method than bag of words. Bag of words needs good preprocessing more than TF-IDF as it is a raw count. However TF-IDF can reduce the weight for highly occuring terms such as 'the' by dividing by normalizing it with the number of documents it occurs in."
   ]
  },
  {
   "cell_type": "code",
   "execution_count": 102,
   "metadata": {
    "collapsed": false
   },
   "outputs": [],
   "source": [
    "from sklearn.feature_extraction.text import TfidfVectorizer"
   ]
  },
  {
   "cell_type": "code",
   "execution_count": 104,
   "metadata": {
    "collapsed": true
   },
   "outputs": [],
   "source": [
    "tfidf_vectorizer = TfidfVectorizer(max_features=5000)"
   ]
  },
  {
   "cell_type": "code",
   "execution_count": 105,
   "metadata": {
    "collapsed": false
   },
   "outputs": [],
   "source": [
    "train_tfidf_features = tfidf_vectorizer.fit_transform(' '.join(text) for text in train_texts)"
   ]
  },
  {
   "cell_type": "code",
   "execution_count": 106,
   "metadata": {
    "collapsed": true
   },
   "outputs": [],
   "source": [
    "clf_tfidf = LogisticRegression()"
   ]
  },
  {
   "cell_type": "code",
   "execution_count": 107,
   "metadata": {
    "collapsed": true
   },
   "outputs": [],
   "source": [
    "clf_tfidf = clf_tfidf.fit(train_tfidf_features, categories)"
   ]
  },
  {
   "cell_type": "code",
   "execution_count": 108,
   "metadata": {
    "collapsed": false
   },
   "outputs": [],
   "source": [
    "test_tfidf_features = tfidf_vectorizer.transform(' '.join(text) for text in test_texts)"
   ]
  },
  {
   "cell_type": "code",
   "execution_count": 109,
   "metadata": {
    "collapsed": true
   },
   "outputs": [],
   "source": [
    "predictions = clf_tfidf.predict(test_tfidf_features)"
   ]
  },
  {
   "cell_type": "code",
   "execution_count": 110,
   "metadata": {
    "collapsed": false
   },
   "outputs": [
    {
     "name": "stdout",
     "output_type": "stream",
     "text": [
      "accuracy 0.973684210526\n",
      "confusion matrix\n",
      " [[19  0  0  0  0  1  0  0]\n",
      " [ 0 21  0  0  0  0  0  0]\n",
      " [ 0  1 17  0  0  0  0  0]\n",
      " [ 0  0  0 19  0  0  0  0]\n",
      " [ 1  0  0  0 18  0  0  0]\n",
      " [ 1  0  0  0  0 19  0  0]\n",
      " [ 0  0  0  0  0  0 17  0]\n",
      " [ 0  0  0  0  0  0  0 18]]\n",
      "(row=expected, col=predicted)\n"
     ]
    },
    {
     "data": {
      "image/png": "[encoded data removed]",
      "text/plain": [
       "<matplotlib.figure.Figure at 0x7f6460321d10>"
      ]
     },
     "metadata": {},
     "output_type": "display_data"
    }
   ],
   "source": [
    "evaluate_prediction(predictions, test['category'])"
   ]
  },
  {
   "cell_type": "markdown",
   "metadata": {},
   "source": [
    "Even this model gives us a wonderful accuracy!\n",
    "\n",
    "__However let's try some more methods__. First we will do some topic modeling. After all the package we will be using is called \"Gensim-Topic Modeling for Humans\"! Topic modeling can help find hidden structure in our data and thus is very useful in visualizing our dataset. It can in turn also be used for classification and dimensionality reduction among many of it's other uses."
   ]
  },
  {
   "cell_type": "markdown",
   "metadata": {},
   "source": [
    "# Let's do some topic modelling\n",
    "Essentially we're trying to find out the topics of the tweets which the user is tweeting about. Since topic models come up with topic distributions, they can probably help us in this task.\n",
    "\n",
    "Let's see if we can use topic models to find some hidden structure in our data first!\n",
    "\n",
    "### Setting up our standard gensim corpus\n",
    "You can refer to the short tutorial [here](https://radimrehurek.com/gensim/tut1.html) for reference as to how a standard gensim corpus is set. "
   ]
  },
  {
   "cell_type": "code",
   "execution_count": 34,
   "metadata": {
    "collapsed": false
   },
   "outputs": [],
   "source": [
    "from gensim.corpora import Dictionary\n",
    "from gensim.models import LdaModel"
   ]
  },
  {
   "cell_type": "code",
   "execution_count": 35,
   "metadata": {
    "collapsed": true
   },
   "outputs": [],
   "source": [
    "dictionary = Dictionary(train_texts)"
   ]
  },
  {
   "cell_type": "code",
   "execution_count": 36,
   "metadata": {
    "collapsed": false
   },
   "outputs": [
    {
     "name": "stdout",
     "output_type": "stream",
     "text": [
      "Dictionary(16366 unique tokens: [u'jaesuk', u'sermersheim', u'degenere', u'jetline', u'mps']...)\n"
     ]
    }
   ],
   "source": [
    "print(dictionary)"
   ]
  },
  {
   "cell_type": "code",
   "execution_count": 37,
   "metadata": {
    "collapsed": true
   },
   "outputs": [],
   "source": [
    "corpus = [dictionary.doc2bow(text) for text in train_texts]"
   ]
  },
  {
   "cell_type": "markdown",
   "metadata": {},
   "source": [
    "### [LSI](https://radimrehurek.com/gensim/models/lsimodel.html) (Latent Semantic Indexing)\n",
    "LSI uses Singular Value Decomposition (SVD) for topic modeling. It can rank topics automatically but needs the `num_topics` parameter to be entered for the number of latent dimensions requested. There is currently an open [issue](https://github.com/RaRe-Technologies/gensim/issues/28) in gensim where an automatic number of topics \"chooser\" has been proposed."
   ]
  },
  {
   "cell_type": "code",
   "execution_count": 38,
   "metadata": {
    "collapsed": true
   },
   "outputs": [],
   "source": [
    "from gensim.models import LsiModel"
   ]
  },
  {
   "cell_type": "code",
   "execution_count": 39,
   "metadata": {
    "collapsed": true
   },
   "outputs": [],
   "source": [
    "lsim = LsiModel(corpus=corpus, num_topics=100, id2word=dictionary)"
   ]
  },
  {
   "cell_type": "code",
   "execution_count": 40,
   "metadata": {
    "collapsed": false
   },
   "outputs": [
    {
     "data": {
      "text/plain": [
       "[(0,\n",
       "  u'0.458*\"travel\" + 0.239*\"time\" + 0.238*\"thank\" + 0.207*\"day\" + 0.190*\"today\" + 0.186*\"world\" + 0.184*\"year\" + 0.159*\"video\" + 0.155*\"france\" + 0.147*\"week\"'),\n",
       " (1,\n",
       "  u'0.833*\"travel\" + -0.142*\"thank\" + -0.138*\"today\" + -0.118*\"year\" + -0.113*\"day\" + -0.107*\"time\" + -0.101*\"video\" + 0.098*\"france\" + -0.094*\"person\" + -0.086*\"trump\"'),\n",
       " (2,\n",
       "  u'-0.873*\"france\" + -0.268*\"paris\" + 0.174*\"travel\" + -0.166*\"france_france\" + 0.086*\"thank\" + -0.056*\"debate\" + -0.053*\"food\" + 0.051*\"time\" + -0.049*\"provence\" + 0.045*\"week\"'),\n",
       " (3,\n",
       "  u'0.453*\"congratulation_number\" + 0.453*\"ceo_medium\" + 0.453*\"number_ceo\" + 0.433*\"congratulation_ceo\" + 0.407*\"medium_socialceos\" + 0.092*\"ceo\" + 0.067*\"france\" + 0.052*\"ceos_medium\" + 0.039*\"medium\" + 0.032*\"company\"'),\n",
       " (4,\n",
       "  u'-0.878*\"recipe\" + 0.236*\"trump\" + -0.111*\"gbbo\" + 0.087*\"video\" + 0.080*\"debate\" + -0.080*\"chef\" + -0.077*\"cheese\" + -0.071*\"pizza\" + 0.065*\"hillary_clinton\" + -0.055*\"recipe_chicken\"'),\n",
       " (5,\n",
       "  u'0.460*\"india\" + 0.385*\"trump\" + -0.186*\"video\" + 0.177*\"recipe\" + -0.169*\"watch\" + -0.155*\"album\" + 0.153*\"market\" + -0.136*\"tonight\" + 0.132*\"china\" + 0.121*\"person\"'),\n",
       " (6,\n",
       "  u'-0.552*\"trump\" + 0.400*\"india\" + -0.291*\"video\" + -0.265*\"recipe\" + -0.186*\"debate\" + -0.150*\"hillary_clinton\" + 0.125*\"world\" + 0.117*\"market\" + -0.112*\"album\" + 0.100*\"thank\"'),\n",
       " (7,\n",
       "  u'-0.503*\"video\" + 0.327*\"thank\" + -0.316*\"india\" + -0.254*\"album\" + 0.195*\"trump\" + -0.172*\"song\" + -0.168*\"debate\" + -0.158*\"watch\" + 0.137*\"today\" + -0.119*\"chart\"'),\n",
       " (8,\n",
       "  u'0.299*\"apple\" + -0.273*\"goal\" + 0.207*\"iphone\" + -0.205*\"watch\" + -0.184*\"tonight\" + 0.158*\"google\" + 0.154*\"video\" + -0.153*\"india\" + -0.149*\"game\" + -0.128*\"trump\"'),\n",
       " (9,\n",
       "  u'-0.342*\"apple\" + 0.286*\"thank\" + -0.266*\"goal\" + -0.246*\"iphone\" + -0.200*\"watch\" + -0.188*\"google\" + 0.179*\"chart\" + -0.159*\"game\" + 0.123*\"video\" + 0.108*\"album\"')]"
      ]
     },
     "execution_count": 40,
     "metadata": {},
     "output_type": "execute_result"
    }
   ],
   "source": [
    "lsim.show_topics(num_topics=10)"
   ]
  },
  {
   "cell_type": "code",
   "execution_count": 41,
   "metadata": {
    "collapsed": true
   },
   "outputs": [],
   "source": [
    "lsimtopics = lsim.show_topics(formatted=False)"
   ]
  },
  {
   "cell_type": "markdown",
   "metadata": {},
   "source": [
    "### [HDP](https://radimrehurek.com/gensim/models/hdpmodel.html) (Hierarchical Dirichlet Process)\n",
    "An HDP model is fully unsupervised. It can also determine the ideal number of topics through posterior inference. This property of HDP is particularly useful when in the \"online\" mode where the number of documents keep streaming and hence the number of topics becomes hard to determine before-hand as in LDA."
   ]
  },
  {
   "cell_type": "code",
   "execution_count": 42,
   "metadata": {
    "collapsed": true
   },
   "outputs": [],
   "source": [
    "from gensim.models import HdpModel"
   ]
  },
  {
   "cell_type": "code",
   "execution_count": 43,
   "metadata": {
    "collapsed": true
   },
   "outputs": [],
   "source": [
    "hdpm = HdpModel(corpus=corpus, id2word=dictionary)"
   ]
  },
  {
   "cell_type": "code",
   "execution_count": 47,
   "metadata": {
    "collapsed": false
   },
   "outputs": [
    {
     "data": {
      "text/plain": [
       "[u'topic 0: 0.005*trump + 0.004*time + 0.004*video + 0.004*album + 0.004*day + 0.003*goal + 0.003*today + 0.003*year + 0.003*way + 0.002*watch + 0.002*person + 0.002*thank + 0.002*song + 0.002*cancer + 0.002*paralympic + 0.002*season + 0.002*gold + 0.002*man + 0.001*game + 0.001*home',\n",
       " u'topic 1: 0.006*india + 0.006*video + 0.005*time + 0.003*world + 0.003*market + 0.003*year + 0.003*tcdisrupt + 0.003*thank + 0.003*science + 0.003*week + 0.002*research + 0.002*day + 0.002*china + 0.002*person + 0.002*event + 0.002*bank + 0.002*rate + 0.002*oil + 0.002*way + 0.002*life',\n",
       " u'topic 2: 0.004*day + 0.004*today + 0.004*time + 0.004*thank + 0.003*tmnt + 0.003*halloween + 0.003*year + 0.002*tonight + 0.002*trailer + 0.002*watch + 0.002*tomorrow + 0.002*usopen + 0.002*startrek + 0.002*mission + 0.002*theater + 0.002*night + 0.002*earth + 0.002*action + 0.002*benhur + 0.002*spacecraft',\n",
       " u'topic 3: 0.009*travel + 0.005*trump + 0.005*sciart + 0.003*innerfishpbs + 0.003*slvaus + 0.003*time + 0.002*india + 0.002*person + 0.002*day + 0.002*sri_lanka + 0.002*thank + 0.002*australia + 0.002*fish + 0.002*england + 0.002*tesla + 0.002*test + 0.002*series + 0.002*year + 0.002*president + 0.002*plan',\n",
       " u'topic 4: 0.005*google + 0.003*facebook + 0.003*apple + 0.002*setitalk + 0.002*star + 0.002*year + 0.002*firefox + 0.002*daily + 0.002*sony + 0.002*exoplanet + 0.002*game + 0.002*week + 0.002*time + 0.001*user + 0.001*planet + 0.001*news + 0.001*search + 0.001*life + 0.001*twitter + 0.001*fox',\n",
       " u'topic 5: 0.008*debate + 0.008*france + 0.004*video + 0.004*paris + 0.004*apple + 0.003*iphone + 0.003*attack + 0.002*time + 0.002*trump + 0.002*appleevent + 0.002*world + 0.002*apple_watch + 0.002*part + 0.001*ban + 0.001*camera + 0.001*worldthisweek + 0.001*woman + 0.001*appleevent_iphone + 0.001*react + 0.001*everything',\n",
       " u'topic 6: 0.005*travel + 0.004*india + 0.003*usa + 0.003*thank + 0.003*time + 0.002*person + 0.002*today + 0.002*day + 0.002*anthem + 0.002*world + 0.002*vincent + 0.002*video + 0.002*award + 0.001*city + 0.001*life + 0.001*jet_europe + 0.001*summit + 0.001*game + 0.001*pulisic + 0.001*teacher',\n",
       " u'topic 7: 0.006*ironmaiden + 0.003*thank + 0.003*scientist + 0.002*request + 0.002*please + 0.002*time + 0.002*person + 0.002*tonight + 0.002*science + 0.002*ironmaiden_spain + 0.002*android + 0.002*sorry + 0.002*version + 0.002*year + 0.002*swiftkey + 0.002*news + 0.002*feature + 0.002*today + 0.002*fossil + 0.001*rock',\n",
       " u'topic 8: 0.003*github + 0.002*day + 0.002*thank + 0.002*patchwork + 0.002*source + 0.002*game + 0.002*today + 0.002*time + 0.002*project + 0.002*team + 0.001*talk + 0.001*community + 0.001*week + 0.001*person + 0.001*year + 0.001*github_satellite + 0.001*world + 0.001*way + 0.001*rio + 0.001*universe',\n",
       " u'topic 9: 0.005*world + 0.004*cnnfood + 0.004*business + 0.003*tip + 0.003*canada + 0.002*year + 0.002*realestate + 0.002*time + 0.002*china + 0.002*city + 0.002*toronto + 0.002*way + 0.002*fish + 0.002*dessert + 0.001*economy + 0.001*job + 0.001*north_korea + 0.001*attack + 0.001*sale + 0.001*tech',\n",
       " u'topic 10: 0.013*recipe + 0.009*chart + 0.004*feat + 0.003*earth + 0.002*remix + 0.002*moon + 0.002*chart_hmstack + 0.002*day + 0.001*person + 0.001*remix_chart + 0.001*premiere + 0.001*year + 0.001*week + 0.001*pizza + 0.001*cheese + 0.001*chart_album + 0.001*time + 0.001*love + 0.001*recipe_chicken + 0.001*rainbow',\n",
       " u'topic 11: 0.006*science + 0.005*france + 0.003*science_story + 0.003*spanc + 0.003*sundance + 0.003*science_mag + 0.002*today + 0.002*day + 0.002*paris + 0.002*smlate + 0.002*world + 0.002*week + 0.002*copy + 0.001*city + 0.001*talk + 0.001*issue + 0.001*thank + 0.001*interview + 0.001*year + 0.001*cop',\n",
       " u'topic 12: 0.005*person + 0.003*today + 0.003*bus + 0.002*business + 0.002*day + 0.002*time + 0.002*life + 0.002*work + 0.002*woman + 0.002*thank + 0.002*thing + 0.002*story + 0.002*show + 0.002*apple + 0.002*way + 0.002*lisa_keller + 0.002*tech + 0.002*phone + 0.001*top + 0.001*world',\n",
       " u'topic 13: 0.003*show + 0.003*tonight + 0.003*album + 0.002*episode + 0.002*dwts + 0.002*week + 0.002*london + 0.002*weekend + 0.002*hmonhbo + 0.002*stream + 0.002*season + 0.002*maintenance + 0.002*night + 0.002*day + 0.002*watch + 0.002*year + 0.002*video + 0.002*tomorrow + 0.002*today + 0.001*music',\n",
       " u'topic 14: 0.011*travel + 0.004*apple + 0.004*thank + 0.003*world + 0.003*today + 0.003*time + 0.003*life + 0.002*day + 0.002*person + 0.002*everyone + 0.002*family + 0.002*team + 0.001*customer + 0.001*way + 0.001*thing + 0.001*man + 0.001*country + 0.001*something + 0.001*photo + 0.001*one',\n",
       " u'topic 15: 0.007*cpp + 0.003*thank + 0.003*cpp_cppcon + 0.003*rio + 0.002*india + 0.002*cpp_episode + 0.002*team + 0.001*time + 0.001*meeting + 0.001*year + 0.001*performance + 0.001*congratulation + 0.001*episode + 0.001*person + 0.001*birthday + 0.001*mein + 0.001*talk + 0.001*roadtorio + 0.001*story + 0.001*journey',\n",
       " u'topic 16: 0.004*album + 0.004*video + 0.003*watch + 0.003*song + 0.001*iphone + 0.001*year + 0.001*ticket + 0.001*track + 0.001*game + 0.001*show + 0.001*time + 0.001*david_bowie + 0.001*fan + 0.001*nmelifehack + 0.001*share + 0.001*week + 0.001*season + 0.001*band + 0.001*apple + 0.001*everything',\n",
       " u'topic 17: 0.004*time + 0.003*video + 0.002*day + 0.002*thank + 0.002*show + 0.002*today + 0.002*week + 0.002*night + 0.002*workout + 0.002*coldplay + 0.002*person + 0.002*life + 0.001*song + 0.001*way + 0.001*tonight + 0.001*check + 0.001*world + 0.001*tip + 0.001*year + 0.001*tonight_show',\n",
       " u'topic 18: 0.004*vmas + 0.003*usopen + 0.003*set + 0.003*year + 0.003*thank + 0.003*world + 0.003*man + 0.002*video + 0.002*tonight + 0.002*serena + 0.002*kerber + 0.002*pliskova + 0.002*performance + 0.002*woman + 0.002*night + 0.002*coverage + 0.002*vma + 0.001*week + 0.001*tennis + 0.001*love',\n",
       " u'topic 19: 0.018*travel + 0.008*congratulation_number + 0.008*ceo_medium + 0.008*number_ceo + 0.008*congratulation_ceo + 0.007*medium_socialceos + 0.003*woman + 0.002*ceo + 0.002*china + 0.001*travel_rail + 0.001*life + 0.001*thank + 0.001*photo + 0.001*city + 0.001*guide + 0.001*costa_rica + 0.001*time + 0.001*book_month + 0.001*ceos_medium + 0.001*medium']"
      ]
     },
     "execution_count": 47,
     "metadata": {},
     "output_type": "execute_result"
    }
   ],
   "source": [
    "hdpm.show_topics()"
   ]
  },
  {
   "cell_type": "markdown",
   "metadata": {},
   "source": [
    "HDP surely comes up with better, more human interpretable topics as we can see. There are topics which clearly talk about sports, others which only have words related to politics or some which relate to travel. As we saw above in LSI, the topics were a bit mixed up. HDP doesn't seem to mix it up as much."
   ]
  },
  {
   "cell_type": "code",
   "execution_count": 48,
   "metadata": {
    "collapsed": true
   },
   "outputs": [],
   "source": [
    "hdpmtopics = hdpm.show_topics(num_topics=-1, num_words=10, formatted=False)"
   ]
  },
  {
   "cell_type": "markdown",
   "metadata": {},
   "source": [
    "### [LDA](https://radimrehurek.com/gensim/models/ldamodel.html) (Latent Dirichlet Allocation)\n",
    "This is one the most popular topic modeling algorithms today. It is a generative model in that it assumes each document is a mixture of topics and in turn, each topic is a mixture of words. To understand it better you can watch [this](https://www.youtube.com/watch?v=DDq3OVp9dNA) lecture by David Blei.\n",
    "<img src=\"images/blei_news.png\">"
   ]
  },
  {
   "cell_type": "code",
   "execution_count": 49,
   "metadata": {
    "collapsed": true
   },
   "outputs": [],
   "source": [
    "ldam = LdaModel(corpus=corpus, num_topics=100, id2word=dictionary)"
   ]
  },
  {
   "cell_type": "code",
   "execution_count": 50,
   "metadata": {
    "collapsed": false
   },
   "outputs": [
    {
     "data": {
      "text/plain": [
       "[(18,\n",
       "  u'0.018*trump + 0.007*hillary_clinton + 0.006*debate + 0.005*video + 0.004*week + 0.004*year + 0.004*person + 0.004*time + 0.004*world + 0.004*today'),\n",
       " (10,\n",
       "  u'0.010*alien + 0.009*time + 0.007*today + 0.007*space + 0.007*day + 0.006*year + 0.005*life + 0.005*person + 0.005*earth + 0.005*thank'),\n",
       " (13,\n",
       "  u'0.011*india + 0.008*france + 0.007*github + 0.005*time + 0.005*summit + 0.005*person + 0.005*week + 0.004*day + 0.004*world + 0.004*patchwork'),\n",
       " (68,\n",
       "  u'0.011*thank + 0.009*today + 0.008*tonight + 0.008*france + 0.008*day + 0.008*world + 0.007*year + 0.006*time + 0.006*video + 0.005*show'),\n",
       " (12,\n",
       "  u'0.008*apple + 0.007*iphone + 0.006*google + 0.004*today + 0.004*year + 0.004*week + 0.004*magma + 0.003*album + 0.003*time + 0.003*facebook'),\n",
       " (5,\n",
       "  u'0.009*india + 0.008*time + 0.008*thank + 0.007*day + 0.007*recipe + 0.007*year + 0.006*world + 0.005*week + 0.005*person + 0.005*rio'),\n",
       " (81,\n",
       "  u'0.037*recipe + 0.007*india + 0.006*year + 0.005*video + 0.004*watch + 0.004*cheese + 0.004*chocolate + 0.004*time + 0.004*world + 0.004*pizza'),\n",
       " (26,\n",
       "  u'0.013*thank + 0.009*iphone + 0.009*today + 0.008*day + 0.007*time + 0.006*year + 0.005*person + 0.005*week + 0.004*world + 0.004*way'),\n",
       " (61,\n",
       "  u'0.006*today + 0.006*thank + 0.006*day + 0.005*watch + 0.005*travel + 0.005*year + 0.004*twitter + 0.004*person + 0.004*team + 0.004*time'),\n",
       " (7,\n",
       "  u'0.007*thank + 0.006*time + 0.005*please + 0.005*request + 0.005*apple + 0.005*india + 0.004*week + 0.004*today + 0.004*android + 0.004*feature')]"
      ]
     },
     "execution_count": 50,
     "metadata": {},
     "output_type": "execute_result"
    }
   ],
   "source": [
    "ldam.show_topics()"
   ]
  },
  {
   "cell_type": "markdown",
   "metadata": {},
   "source": [
    "`LdaModel` also comes up with decent topics. We can decipher some topics by the word distributions."
   ]
  },
  {
   "cell_type": "code",
   "execution_count": 51,
   "metadata": {
    "collapsed": true
   },
   "outputs": [],
   "source": [
    "ldamtopics = ldam.show_topics(num_topics=-1, formatted=False)"
   ]
  },
  {
   "cell_type": "markdown",
   "metadata": {},
   "source": [
    "# Topic Coherence\n",
    "<img src='images/pipeline.png'>\n",
    "Topic coherence is a way to quantify the human interpretability of the topics. Simply enter the __topics 't'__ and you get __coherence value 'c'__ as the output! The topic coherence pipeline recently got merged into gensim which was based on [this](http://svn.aksw.org/papers/2015/WSDM_Topic_Evaluation/public.pdf) paper by Roeder et al.\n",
    "\n",
    "This is a great way to compare individual topics and can be extended to comparing different topic models as well. We will be doing this later on in this tutorial.\n",
    "\n",
    "To know more about topic coherence you can read my blog [here](https://rare-technologies.com/what-is-topic-coherence/) where I have to tried to give an introductory explanation of how topic coherence works.\n",
    "\n",
    "### Finding optimal number of topics\n",
    "As we saw above, `LdaModel` requires the number of topics to be entered for fitting it. This is one of the problem of LDA as knowing the number of topics beforehand can be a challenging task especially in an online setting. Traditionally, perplexity has been used to find out the optimum number of topics. We will be using topic coherence instead. The logic is pretty simple in that: \"Let's select the number of topics which we can understand easily\"."
   ]
  },
  {
   "cell_type": "code",
   "execution_count": 52,
   "metadata": {
    "collapsed": false
   },
   "outputs": [],
   "source": [
    "import operator\n",
    "from gensim.models import CoherenceModel\n",
    "from matplotlib import pyplot as plt\n",
    "\n",
    "%matplotlib inline"
   ]
  },
  {
   "cell_type": "code",
   "execution_count": 63,
   "metadata": {
    "collapsed": true
   },
   "outputs": [],
   "source": [
    "BASE = 6  # base number of topics for graph evaluation"
   ]
  },
  {
   "cell_type": "code",
   "execution_count": 68,
   "metadata": {
    "collapsed": false
   },
   "outputs": [],
   "source": [
    "def evaluate_graph(dictionary, corpus, texts, limit):\n",
    "    \"\"\"\n",
    "    Function to display num_topics - LDA graph using c_v coherence\n",
    "    \n",
    "    Parameters:\n",
    "    ----------\n",
    "    dictionary : Gensim dictionary\n",
    "    corpus : Gensim corpus\n",
    "    limit : topic limit\n",
    "    \n",
    "    Returns:\n",
    "    -------\n",
    "    lm_list : List of LDA topic models\n",
    "    \"\"\"\n",
    "    if limit < BASE:\n",
    "        raise ValueError(\"Please enter limit > %d. You entered %d\" % (BASE, limit))\n",
    "    c_v = []\n",
    "    lm_list = []\n",
    "    for num_topics in range(BASE, limit):\n",
    "        lm = LdaModel(corpus=corpus, num_topics=num_topics, id2word=dictionary)\n",
    "        lm_list.append(lm)\n",
    "        cm = CoherenceModel(model=lm, texts=texts, dictionary=dictionary, coherence='c_v')\n",
    "        c_v.append(cm.get_coherence())\n",
    "        \n",
    "    # Show graph\n",
    "    x = range(6, limit)\n",
    "    plt.plot(x, c_v)\n",
    "    plt.xlabel(\"num_topics\")\n",
    "    plt.ylabel(\"Coherence score\")\n",
    "    plt.legend((\"c_v\"), loc='best')\n",
    "    plt.show()\n",
    "    \n",
    "    return lm_list, c_v"
   ]
  },
  {
   "cell_type": "markdown",
   "metadata": {},
   "source": [
    "We iteratively train LdaModels for different number of topics ranging from 6 to 15. Topics lesser than 6 might not make sense however we should be getting the ideal value around 8 as the number of categories we have are 8.\n",
    "\n",
    "__Warning__: Can take quite long to compute. If you want to reduce the amount of time taken here, you can reduce the limit or better, change the coherence algorithm to `u_mass` instead. However it has been experimentally proven that `c_v` correlates best with human interpretation."
   ]
  },
  {
   "cell_type": "code",
   "execution_count": 54,
   "metadata": {
    "collapsed": false,
    "scrolled": false
   },
   "outputs": [
    {
     "data": {
      "image/png": "[encoded data removed]",
      "text/plain": [
       "<matplotlib.figure.Figure at 0x7f6460e17dd0>"
      ]
     },
     "metadata": {},
     "output_type": "display_data"
    },
    {
     "name": "stdout",
     "output_type": "stream",
     "text": [
      "CPU times: user 1min 20s, sys: 264 ms, total: 1min 20s\n",
      "Wall time: 1min 20s\n"
     ]
    }
   ],
   "source": [
    "%%time\n",
    "lm_list, c_v = evaluate_graph(dictionary, corpus, train_texts, 15)"
   ]
  },
  {
   "cell_type": "code",
   "execution_count": 55,
   "metadata": {
    "collapsed": false
   },
   "outputs": [],
   "source": [
    "ldam_tc = lm_list[np.argmax(c_v)]  # Select the LdaModel corresponding to the best coherence value"
   ]
  },
  {
   "cell_type": "code",
   "execution_count": 56,
   "metadata": {
    "collapsed": false
   },
   "outputs": [
    {
     "data": {
      "text/plain": [
       "[(0,\n",
       "  u'0.006*year + 0.005*day + 0.005*thank + 0.005*today + 0.005*time + 0.005*video + 0.005*week + 0.005*person + 0.004*world + 0.004*life'),\n",
       " (1,\n",
       "  u'0.019*travel + 0.008*time + 0.008*year + 0.006*today + 0.006*thank + 0.005*day + 0.005*world + 0.004*video + 0.004*person + 0.004*life'),\n",
       " (2,\n",
       "  u'0.008*thank + 0.006*today + 0.006*video + 0.005*day + 0.005*week + 0.005*travel + 0.005*world + 0.004*time + 0.004*tonight + 0.004*person'),\n",
       " (3,\n",
       "  u'0.007*thank + 0.005*year + 0.005*person + 0.005*time + 0.004*today + 0.004*day + 0.004*world + 0.003*tonight + 0.003*man + 0.003*week'),\n",
       " (4,\n",
       "  u'0.009*france + 0.008*thank + 0.008*day + 0.006*time + 0.006*recipe + 0.005*today + 0.005*travel + 0.004*year + 0.004*week + 0.003*world'),\n",
       " (5,\n",
       "  u'0.008*video + 0.007*thank + 0.007*time + 0.006*day + 0.005*today + 0.004*week + 0.004*year + 0.004*person + 0.004*world + 0.003*tonight'),\n",
       " (6,\n",
       "  u'0.008*time + 0.007*year + 0.006*thank + 0.006*day + 0.005*today + 0.005*video + 0.005*week + 0.005*world + 0.004*watch + 0.004*team'),\n",
       " (7,\n",
       "  u'0.006*day + 0.006*thank + 0.006*world + 0.006*time + 0.005*france + 0.005*recipe + 0.005*today + 0.004*trump + 0.004*year + 0.003*week'),\n",
       " (8,\n",
       "  u'0.007*time + 0.006*year + 0.006*day + 0.006*video + 0.005*today + 0.005*thank + 0.004*week + 0.003*person + 0.003*france + 0.003*world'),\n",
       " (9,\n",
       "  u'0.008*time + 0.007*world + 0.006*day + 0.005*today + 0.005*thank + 0.005*year + 0.005*week + 0.005*person + 0.004*trump + 0.004*way')]"
      ]
     },
     "execution_count": 56,
     "metadata": {},
     "output_type": "execute_result"
    }
   ],
   "source": [
    "ldam_tc.show_topics(num_topics=-1)"
   ]
  },
  {
   "cell_type": "code",
   "execution_count": 57,
   "metadata": {
    "collapsed": false
   },
   "outputs": [],
   "source": [
    "ldam_tctopics = ldam_tc.show_topics(num_topics=-1, formatted=False)"
   ]
  },
  {
   "cell_type": "markdown",
   "metadata": {},
   "source": [
    "### LDA as LSI\n",
    "As we saw above, LSI can automatically rank topics. We can actually do the same with LDA also by making it work with the topic coherence pipeline. We rank individual topics based on their human interpretability.\n",
    "\n",
    "We will be going one step further here and making a new LDA model by using only the best topics from the first LDA model. An \"LDA migration\" of sorts! This can be done by selecting the `alphas` and `betas` corresponding to only the best topics from the first LDA model and transferring them onto the new model."
   ]
  },
  {
   "cell_type": "code",
   "execution_count": 60,
   "metadata": {
    "collapsed": true
   },
   "outputs": [],
   "source": [
    "def ret_top_model(num_topics):\n",
    "    \"\"\"\n",
    "    Since LDAmodel is a probabilistic model, it comes up different topics each time we run it. To control the\n",
    "    quality of the topic model we produce, we can create another topic model from only the most coherent n topics\n",
    "    from the LDAmodel.\n",
    "    \n",
    "    Parameters:\n",
    "    ----------\n",
    "    num_topics: Number of top topics for new LdaModel.\n",
    "    \n",
    "    Returns:\n",
    "    -------\n",
    "    refined_lm: Final evaluated topic model\n",
    "    top_topics: ranked topics in decreasing order. List of tuples\n",
    "    \"\"\"\n",
    "    lm = LdaModel(corpus=corpus, id2word=dictionary)\n",
    "    coherence_values = {}\n",
    "    doc = []\n",
    "    for n, topic in lm.show_topics(num_topics=-1, formatted=False):\n",
    "        topic = [word for word, _ in topic]\n",
    "        cm = CoherenceModel(topics=[topic], texts=train_texts, dictionary=dictionary)\n",
    "        coherence_values[n] = cm.get_coherence()\n",
    "    top_topics = sorted(coherence_values.items(), key=operator.itemgetter(1), reverse=True)[:num_topics]\n",
    "    top_topics = [t for t, c in top_topics]\n",
    "    alpha = lm.alpha[top_topics]\n",
    "    beta = lm.expElogbeta[top_topics, :]\n",
    "    refined_lm = LdaModel(corpus=corpus, id2word=dictionary, num_topics=num_topics, alpha=alpha)\n",
    "    refined_lm.expElogbeta[:] = beta\n",
    "    return refined_lm"
   ]
  },
  {
   "cell_type": "markdown",
   "metadata": {},
   "source": [
    "__Warning__: Can take some time to run"
   ]
  },
  {
   "cell_type": "code",
   "execution_count": 69,
   "metadata": {
    "collapsed": false
   },
   "outputs": [
    {
     "name": "stdout",
     "output_type": "stream",
     "text": [
      "CPU times: user 1min 21s, sys: 1min 20s, total: 2min 41s\n",
      "Wall time: 1min 9s\n"
     ]
    }
   ],
   "source": [
    "%%time\n",
    "lda_lsim = ret_top_model(BASE + np.argmax(c_v))  # Using the value we found above"
   ]
  },
  {
   "cell_type": "code",
   "execution_count": 70,
   "metadata": {
    "collapsed": false
   },
   "outputs": [
    {
     "data": {
      "text/plain": [
       "[(0,\n",
       "  u'0.008*today + 0.007*thank + 0.006*travel + 0.006*day + 0.005*year + 0.005*time + 0.004*world + 0.004*week + 0.004*person + 0.003*video'),\n",
       " (1,\n",
       "  u'0.007*time + 0.006*day + 0.006*today + 0.005*thank + 0.005*year + 0.005*week + 0.004*world + 0.004*thing + 0.003*recipe + 0.003*person'),\n",
       " (2,\n",
       "  u'0.007*today + 0.006*thank + 0.006*time + 0.005*year + 0.005*world + 0.004*india + 0.004*day + 0.004*travel + 0.004*person + 0.003*video'),\n",
       " (3,\n",
       "  u'0.006*year + 0.005*time + 0.005*india + 0.004*world + 0.004*day + 0.004*today + 0.004*person + 0.003*video + 0.003*thank + 0.003*week'),\n",
       " (4,\n",
       "  u'0.008*thank + 0.008*day + 0.006*video + 0.006*year + 0.006*person + 0.006*time + 0.004*week + 0.004*life + 0.004*today + 0.003*watch'),\n",
       " (5,\n",
       "  u'0.007*chart + 0.006*video + 0.006*time + 0.005*year + 0.005*day + 0.005*person + 0.005*world + 0.004*week + 0.004*today + 0.004*india'),\n",
       " (6,\n",
       "  u'0.008*thank + 0.008*france + 0.007*travel + 0.007*time + 0.006*day + 0.006*today + 0.006*world + 0.005*year + 0.005*trump + 0.004*tonight'),\n",
       " (7,\n",
       "  u'0.009*time + 0.009*video + 0.007*recipe + 0.005*today + 0.005*year + 0.004*thank + 0.004*world + 0.004*trump + 0.004*person + 0.004*week'),\n",
       " (8,\n",
       "  u'0.006*time + 0.006*day + 0.006*week + 0.005*thank + 0.005*year + 0.005*today + 0.004*apple + 0.004*team + 0.003*france + 0.003*video'),\n",
       " (9,\n",
       "  u'0.013*travel + 0.008*thank + 0.007*day + 0.007*time + 0.006*week + 0.005*today + 0.005*world + 0.005*year + 0.004*tonight + 0.004*video')]"
      ]
     },
     "execution_count": 70,
     "metadata": {},
     "output_type": "execute_result"
    }
   ],
   "source": [
    "lda_lsim.show_topics(-1)"
   ]
  },
  {
   "cell_type": "markdown",
   "metadata": {},
   "source": [
    "HDP model still seems like the best one yet...."
   ]
  },
  {
   "cell_type": "code",
   "execution_count": 71,
   "metadata": {
    "collapsed": true
   },
   "outputs": [],
   "source": [
    "lda_lsimtopics = lda_lsim.show_topics(num_topics=-1, formatted=False)"
   ]
  },
  {
   "cell_type": "markdown",
   "metadata": {},
   "source": [
    "Let's transfer out HDP model into an LDA model. We can do these by copying over the corresponding alphas and betas into the LDA model. This will also help us calculate topic inferences easily if this turns out to be the best LDA model so far."
   ]
  },
  {
   "cell_type": "code",
   "execution_count": 72,
   "metadata": {
    "collapsed": true
   },
   "outputs": [],
   "source": [
    "alpha, beta = hdpm.hdp_to_lda()\n",
    "num_topics = len(hdpmtopics)"
   ]
  },
  {
   "cell_type": "code",
   "execution_count": 73,
   "metadata": {
    "collapsed": false
   },
   "outputs": [],
   "source": [
    "%%time\n",
    "lda_hdp = LdaModel(corpus=corpus, id2word=dictionary, num_topics=num_topics, alpha=alpha)\n",
    "lda_hdp.expElogbeta[:] = beta"
   ]
  },
  {
   "cell_type": "markdown",
   "metadata": {},
   "source": [
    "### Evaluating all topic models\n",
    "Finally, we will be using the topic coherence pipeline to compare all the topic models we have created so far. Till now we have only been qualitatively comparing the models. The topic coherence pipeline allows us to quantitatively compare the different topic models. "
   ]
  },
  {
   "cell_type": "code",
   "execution_count": 74,
   "metadata": {
    "collapsed": true
   },
   "outputs": [],
   "source": [
    "lsimtopics = [[word for word, prob in topic] for topicid, topic in lsimtopics]\n",
    "hdpmtopics = [[word for word, prob in topic] for topicid, topic in hdpmtopics]\n",
    "ldamtopics = [[word for word, prob in topic] for topicid, topic in ldamtopics]\n",
    "ldam_tctopics = [[word for word, prob in topic] for topicid, topic in ldam_tctopics]\n",
    "lda_lsimtopics = [[word for word, prob in topic] for topicid, topic in lda_lsimtopics]"
   ]
  },
  {
   "cell_type": "code",
   "execution_count": 76,
   "metadata": {
    "collapsed": false
   },
   "outputs": [],
   "source": [
    "%%time\n",
    "lsi_coherence = CoherenceModel(topics=lsimtopics, texts=train_texts, dictionary=dictionary, window_size=110).get_coherence()\n",
    "hdp_coherence = CoherenceModel(topics=hdpmtopics, texts=train_texts, dictionary=dictionary, window_size=110).get_coherence()\n",
    "lda_coherence = CoherenceModel(topics=ldamtopics, texts=train_texts, dictionary=dictionary, window_size=110).get_coherence()\n",
    "lm_coherence = CoherenceModel(topics=ldam_tctopics, texts=train_texts, dictionary=dictionary, window_size=110).get_coherence()\n",
    "lda_lsi_coherence = CoherenceModel(topics=lda_lsimtopics, texts=train_texts, dictionary=dictionary, window_size=110).get_coherence()\n",
    "lda_hdp_coherence = CoherenceModel(model=lda_hdp, texts=train_texts, dictionary=dictionary).get_coherence()"
   ]
  },
  {
   "cell_type": "code",
   "execution_count": 77,
   "metadata": {
    "collapsed": true
   },
   "outputs": [],
   "source": [
    "def evaluate_bar_graph(coherences, indices):\n",
    "    \"\"\"\n",
    "    Function to plot bar graph.\n",
    "    \n",
    "    coherences: list of coherence values\n",
    "    indices: Indices to be used to mark bars. Length of this and coherences should be equal.\n",
    "    \"\"\"\n",
    "    assert len(coherences) == len(indices)\n",
    "    n = len(coherences)\n",
    "    x = np.arange(n)\n",
    "    plt.bar(x, coherences, width=0.2, tick_label=indices, align='center')\n",
    "    plt.xlabel('Models')\n",
    "    plt.ylabel('Coherence Value')"
   ]
  },
  {
   "cell_type": "code",
   "execution_count": 78,
   "metadata": {
    "collapsed": false
   },
   "outputs": [
    {
     "data": {
      "image/png": "[encoded data removed]",
      "text/plain": [
       "<matplotlib.figure.Figure at 0x7f6460381810>"
      ]
     },
     "metadata": {},
     "output_type": "display_data"
    }
   ],
   "source": [
    "evaluate_bar_graph([lsi_coherence, hdp_coherence, lda_coherence, lm_coherence, lda_lsi_coherence, lda_hdp_coherence],\n",
    "                   ['LSI', 'HDP', 'LDA', 'LDA_TC', 'LDA_LSI', 'LDA_HDP'])"
   ]
  },
  {
   "cell_type": "markdown",
   "metadata": {},
   "source": [
    "Our intuition was correct! HDP model turned out to be the best one and the transferred HDP model turned out to be the best LDA model. I would have liked our optimal topics and lda_lsi to perform better but we can be happy that it at least performs better than vanilla LDA!\n",
    "\n",
    "__DO REMEMBER__ that these values and topic models only correspond to this dataset and can vary accross different datasets. In fact since LDA models are probabilistic, they can vary a lot across runs too! We could have done better in LDA tuning however this was a tutorial on how topic coherence in particular can be used for LDA tuning. \n",
    "I have observed that HDP models generally perform better when each `text` within `texts` has a lot of tokens. You will notice that the comparison turned out to be very different in my [news classification notebook](https://github.com/RaRe-Technologies/gensim/blob/develop/docs/notebooks/gensim_news_classification.ipynb)."
   ]
  },
  {
   "cell_type": "markdown",
   "metadata": {},
   "source": [
    "We can infer topic distributions from individual word tokens"
   ]
  },
  {
   "cell_type": "code",
   "execution_count": 79,
   "metadata": {
    "collapsed": false
   },
   "outputs": [
    {
     "data": {
      "text/plain": [
       "[(0, 0.020747005339168085),\n",
       " (1, 0.015619467449170938),\n",
       " (2, 0.01515479665144364),\n",
       " (3, 0.013263505290823383),\n",
       " (4, 0.011461347494227963),\n",
       " (7, 0.01033302395012411),\n",
       " (60, 0.75004794585779522)]"
      ]
     },
     "execution_count": 79,
     "metadata": {},
     "output_type": "execute_result"
    }
   ],
   "source": [
    "lda_hdp[dictionary.doc2bow(['jimmy', 'fallon', 'entertainment'])]"
   ]
  },
  {
   "cell_type": "code",
   "execution_count": 80,
   "metadata": {
    "collapsed": false
   },
   "outputs": [
    {
     "data": {
      "text/plain": [
       "[(u'instagram_story', 0.010313831265346737),\n",
       " (u'day', 0.0074670712558621054),\n",
       " (u'story', 0.0073743853924961352),\n",
       " (u'dailyfluff', 0.0059833591116555014),\n",
       " (u'today', 0.0056846662957611323),\n",
       " (u'year', 0.005416924728197125),\n",
       " (u'instagram', 0.0052345008517774329),\n",
       " (u'world', 0.0044777640807956483),\n",
       " (u'project', 0.0044194110154705942),\n",
       " (u'weekend', 0.0043656532385983856)]"
      ]
     },
     "execution_count": 80,
     "metadata": {},
     "output_type": "execute_result"
    }
   ],
   "source": [
    "lda_hdp.show_topic(60, topn=10)"
   ]
  },
  {
   "cell_type": "markdown",
   "metadata": {},
   "source": [
    "# LDA for dimensionality reduction\n",
    "In this tutorial we will be using our best LDA model from above for dimensionality reduction. When we use LDA for inference it gives large probabilities for some topics but negligible for the others. This is how it looks like:\n",
    "<img src='images/inference.jpg'>\n",
    "<center> _Image taken from Blei's video on LDA_ </center>\n",
    "\n",
    "__This is the pipeline we're following for LDA dimensionality reduction__ (wanted to see how well I can use the pencil in gimp):\n",
    "<img src='images/lda_dim_red.png'>\n",
    "P, B = Preprocessing, bigram collocation\n",
    "\n",
    "LDA = LDA model for inference\n",
    "\n",
    "CLF = Classifier"
   ]
  },
  {
   "cell_type": "code",
   "execution_count": 111,
   "metadata": {
    "collapsed": true
   },
   "outputs": [],
   "source": [
    "train_lda_features = pd.DataFrame()"
   ]
  },
  {
   "cell_type": "markdown",
   "metadata": {},
   "source": [
    "As we can see above in the graph, LDA inference yields positive values for only some topics and negligible values for the others. We can assume them to be 0 to create our dataframe."
   ]
  },
  {
   "cell_type": "code",
   "execution_count": 112,
   "metadata": {
    "collapsed": false
   },
   "outputs": [],
   "source": [
    "for message in train_texts:\n",
    "    features = np.zeros(shape=(1, num_topics))\n",
    "    inference = lda_hdp[dictionary.doc2bow(message)]\n",
    "    for tid, val in inference:\n",
    "        features[:, tid] = val\n",
    "    features = pd.DataFrame(features)\n",
    "    train_lda_features = train_lda_features.append(features, ignore_index=True)"
   ]
  },
  {
   "cell_type": "code",
   "execution_count": 113,
   "metadata": {
    "collapsed": false
   },
   "outputs": [
    {
     "data": {
      "text/plain": [
       "(152, 150)"
      ]
     },
     "execution_count": 113,
     "metadata": {},
     "output_type": "execute_result"
    }
   ],
   "source": [
    "train_lda_features.shape"
   ]
  },
  {
   "cell_type": "code",
   "execution_count": 114,
   "metadata": {
    "collapsed": false
   },
   "outputs": [
    {
     "data": {
      "text/html": [
       "<div>\n",
       "<table border=\"1\" class=\"dataframe\">\n",
       "  <thead>\n",
       "    <tr style=\"text-align: right;\">\n",
       "      <th></th>\n",
       "      <th>0</th>\n",
       "      <th>1</th>\n",
       "      <th>2</th>\n",
       "      <th>3</th>\n",
       "      <th>4</th>\n",
       "      <th>5</th>\n",
       "      <th>6</th>\n",
       "      <th>7</th>\n",
       "      <th>8</th>\n",
       "      <th>9</th>\n",
       "      <th>...</th>\n",
       "      <th>140</th>\n",
       "      <th>141</th>\n",
       "      <th>142</th>\n",
       "      <th>143</th>\n",
       "      <th>144</th>\n",
       "      <th>145</th>\n",
       "      <th>146</th>\n",
       "      <th>147</th>\n",
       "      <th>148</th>\n",
       "      <th>149</th>\n",
       "    </tr>\n",
       "  </thead>\n",
       "  <tbody>\n",
       "    <tr>\n",
       "      <th>0</th>\n",
       "      <td>0.000000</td>\n",
       "      <td>0.0</td>\n",
       "      <td>0.0</td>\n",
       "      <td>0.0</td>\n",
       "      <td>0.000000</td>\n",
       "      <td>0.0</td>\n",
       "      <td>0.0</td>\n",
       "      <td>0.0</td>\n",
       "      <td>0.000000</td>\n",
       "      <td>0.0</td>\n",
       "      <td>...</td>\n",
       "      <td>0.0</td>\n",
       "      <td>0.0</td>\n",
       "      <td>0.0</td>\n",
       "      <td>0.0</td>\n",
       "      <td>0.0</td>\n",
       "      <td>0.0</td>\n",
       "      <td>0.0</td>\n",
       "      <td>0.0</td>\n",
       "      <td>0.0</td>\n",
       "      <td>0.0</td>\n",
       "    </tr>\n",
       "    <tr>\n",
       "      <th>1</th>\n",
       "      <td>0.000000</td>\n",
       "      <td>0.0</td>\n",
       "      <td>0.0</td>\n",
       "      <td>0.0</td>\n",
       "      <td>0.000000</td>\n",
       "      <td>0.0</td>\n",
       "      <td>0.0</td>\n",
       "      <td>0.0</td>\n",
       "      <td>0.998761</td>\n",
       "      <td>0.0</td>\n",
       "      <td>...</td>\n",
       "      <td>0.0</td>\n",
       "      <td>0.0</td>\n",
       "      <td>0.0</td>\n",
       "      <td>0.0</td>\n",
       "      <td>0.0</td>\n",
       "      <td>0.0</td>\n",
       "      <td>0.0</td>\n",
       "      <td>0.0</td>\n",
       "      <td>0.0</td>\n",
       "      <td>0.0</td>\n",
       "    </tr>\n",
       "    <tr>\n",
       "      <th>2</th>\n",
       "      <td>0.000000</td>\n",
       "      <td>0.0</td>\n",
       "      <td>0.0</td>\n",
       "      <td>0.0</td>\n",
       "      <td>0.000000</td>\n",
       "      <td>0.0</td>\n",
       "      <td>0.0</td>\n",
       "      <td>0.0</td>\n",
       "      <td>0.000000</td>\n",
       "      <td>0.0</td>\n",
       "      <td>...</td>\n",
       "      <td>0.0</td>\n",
       "      <td>0.0</td>\n",
       "      <td>0.0</td>\n",
       "      <td>0.0</td>\n",
       "      <td>0.0</td>\n",
       "      <td>0.0</td>\n",
       "      <td>0.0</td>\n",
       "      <td>0.0</td>\n",
       "      <td>0.0</td>\n",
       "      <td>0.0</td>\n",
       "    </tr>\n",
       "    <tr>\n",
       "      <th>3</th>\n",
       "      <td>0.000000</td>\n",
       "      <td>0.0</td>\n",
       "      <td>0.0</td>\n",
       "      <td>0.0</td>\n",
       "      <td>0.088287</td>\n",
       "      <td>0.0</td>\n",
       "      <td>0.0</td>\n",
       "      <td>0.0</td>\n",
       "      <td>0.000000</td>\n",
       "      <td>0.0</td>\n",
       "      <td>...</td>\n",
       "      <td>0.0</td>\n",
       "      <td>0.0</td>\n",
       "      <td>0.0</td>\n",
       "      <td>0.0</td>\n",
       "      <td>0.0</td>\n",
       "      <td>0.0</td>\n",
       "      <td>0.0</td>\n",
       "      <td>0.0</td>\n",
       "      <td>0.0</td>\n",
       "      <td>0.0</td>\n",
       "    </tr>\n",
       "    <tr>\n",
       "      <th>4</th>\n",
       "      <td>0.998815</td>\n",
       "      <td>0.0</td>\n",
       "      <td>0.0</td>\n",
       "      <td>0.0</td>\n",
       "      <td>0.000000</td>\n",
       "      <td>0.0</td>\n",
       "      <td>0.0</td>\n",
       "      <td>0.0</td>\n",
       "      <td>0.000000</td>\n",
       "      <td>0.0</td>\n",
       "      <td>...</td>\n",
       "      <td>0.0</td>\n",
       "      <td>0.0</td>\n",
       "      <td>0.0</td>\n",
       "      <td>0.0</td>\n",
       "      <td>0.0</td>\n",
       "      <td>0.0</td>\n",
       "      <td>0.0</td>\n",
       "      <td>0.0</td>\n",
       "      <td>0.0</td>\n",
       "      <td>0.0</td>\n",
       "    </tr>\n",
       "  </tbody>\n",
       "</table>\n",
       "<p>5 rows × 150 columns</p>\n",
       "</div>"
      ],
      "text/plain": [
       "        0    1    2    3         4    5    6    7         8    9   ...   140  \\\n",
       "0  0.000000  0.0  0.0  0.0  0.000000  0.0  0.0  0.0  0.000000  0.0 ...   0.0   \n",
       "1  0.000000  0.0  0.0  0.0  0.000000  0.0  0.0  0.0  0.998761  0.0 ...   0.0   \n",
       "2  0.000000  0.0  0.0  0.0  0.000000  0.0  0.0  0.0  0.000000  0.0 ...   0.0   \n",
       "3  0.000000  0.0  0.0  0.0  0.088287  0.0  0.0  0.0  0.000000  0.0 ...   0.0   \n",
       "4  0.998815  0.0  0.0  0.0  0.000000  0.0  0.0  0.0  0.000000  0.0 ...   0.0   \n",
       "\n",
       "   141  142  143  144  145  146  147  148  149  \n",
       "0  0.0  0.0  0.0  0.0  0.0  0.0  0.0  0.0  0.0  \n",
       "1  0.0  0.0  0.0  0.0  0.0  0.0  0.0  0.0  0.0  \n",
       "2  0.0  0.0  0.0  0.0  0.0  0.0  0.0  0.0  0.0  \n",
       "3  0.0  0.0  0.0  0.0  0.0  0.0  0.0  0.0  0.0  \n",
       "4  0.0  0.0  0.0  0.0  0.0  0.0  0.0  0.0  0.0  \n",
       "\n",
       "[5 rows x 150 columns]"
      ]
     },
     "execution_count": 114,
     "metadata": {},
     "output_type": "execute_result"
    }
   ],
   "source": [
    "train_lda_features.head()"
   ]
  },
  {
   "cell_type": "code",
   "execution_count": 115,
   "metadata": {
    "collapsed": true
   },
   "outputs": [],
   "source": [
    "clf_lda = LogisticRegression()"
   ]
  },
  {
   "cell_type": "code",
   "execution_count": 116,
   "metadata": {
    "collapsed": false
   },
   "outputs": [],
   "source": [
    "clf_lda = clf_lda.fit(train_lda_features, categories)"
   ]
  },
  {
   "cell_type": "code",
   "execution_count": 118,
   "metadata": {
    "collapsed": true
   },
   "outputs": [],
   "source": [
    "test_lda_features = pd.DataFrame()"
   ]
  },
  {
   "cell_type": "code",
   "execution_count": 119,
   "metadata": {
    "collapsed": false
   },
   "outputs": [],
   "source": [
    "for message in test_texts:\n",
    "    features = np.zeros(shape=(1, num_topics))\n",
    "    inference = lda_hdp[dictionary.doc2bow(message)]\n",
    "    for tid, val in inference:\n",
    "        features[:, tid] = val\n",
    "    features = pd.DataFrame(features)\n",
    "    test_lda_features = test_lda_features.append(features, ignore_index=True)"
   ]
  },
  {
   "cell_type": "code",
   "execution_count": 120,
   "metadata": {
    "collapsed": false
   },
   "outputs": [
    {
     "data": {
      "text/html": [
       "<div>\n",
       "<table border=\"1\" class=\"dataframe\">\n",
       "  <thead>\n",
       "    <tr style=\"text-align: right;\">\n",
       "      <th></th>\n",
       "      <th>0</th>\n",
       "      <th>1</th>\n",
       "      <th>2</th>\n",
       "      <th>3</th>\n",
       "      <th>4</th>\n",
       "      <th>5</th>\n",
       "      <th>6</th>\n",
       "      <th>7</th>\n",
       "      <th>8</th>\n",
       "      <th>9</th>\n",
       "      <th>...</th>\n",
       "      <th>140</th>\n",
       "      <th>141</th>\n",
       "      <th>142</th>\n",
       "      <th>143</th>\n",
       "      <th>144</th>\n",
       "      <th>145</th>\n",
       "      <th>146</th>\n",
       "      <th>147</th>\n",
       "      <th>148</th>\n",
       "      <th>149</th>\n",
       "    </tr>\n",
       "  </thead>\n",
       "  <tbody>\n",
       "    <tr>\n",
       "      <th>0</th>\n",
       "      <td>0.000000</td>\n",
       "      <td>0.221204</td>\n",
       "      <td>0.0</td>\n",
       "      <td>0.112472</td>\n",
       "      <td>0.443215</td>\n",
       "      <td>0.066424</td>\n",
       "      <td>0.000000</td>\n",
       "      <td>0.000000</td>\n",
       "      <td>0.000000</td>\n",
       "      <td>0.0</td>\n",
       "      <td>...</td>\n",
       "      <td>0.0</td>\n",
       "      <td>0.0</td>\n",
       "      <td>0.0</td>\n",
       "      <td>0.0</td>\n",
       "      <td>0.0</td>\n",
       "      <td>0.0</td>\n",
       "      <td>0.0</td>\n",
       "      <td>0.0</td>\n",
       "      <td>0.0</td>\n",
       "      <td>0.0</td>\n",
       "    </tr>\n",
       "    <tr>\n",
       "      <th>1</th>\n",
       "      <td>0.000000</td>\n",
       "      <td>0.000000</td>\n",
       "      <td>0.0</td>\n",
       "      <td>0.000000</td>\n",
       "      <td>0.000000</td>\n",
       "      <td>0.000000</td>\n",
       "      <td>0.000000</td>\n",
       "      <td>0.000000</td>\n",
       "      <td>0.941105</td>\n",
       "      <td>0.0</td>\n",
       "      <td>...</td>\n",
       "      <td>0.0</td>\n",
       "      <td>0.0</td>\n",
       "      <td>0.0</td>\n",
       "      <td>0.0</td>\n",
       "      <td>0.0</td>\n",
       "      <td>0.0</td>\n",
       "      <td>0.0</td>\n",
       "      <td>0.0</td>\n",
       "      <td>0.0</td>\n",
       "      <td>0.0</td>\n",
       "    </tr>\n",
       "    <tr>\n",
       "      <th>2</th>\n",
       "      <td>0.000000</td>\n",
       "      <td>0.000000</td>\n",
       "      <td>0.0</td>\n",
       "      <td>0.000000</td>\n",
       "      <td>0.050406</td>\n",
       "      <td>0.000000</td>\n",
       "      <td>0.101129</td>\n",
       "      <td>0.000000</td>\n",
       "      <td>0.060778</td>\n",
       "      <td>0.0</td>\n",
       "      <td>...</td>\n",
       "      <td>0.0</td>\n",
       "      <td>0.0</td>\n",
       "      <td>0.0</td>\n",
       "      <td>0.0</td>\n",
       "      <td>0.0</td>\n",
       "      <td>0.0</td>\n",
       "      <td>0.0</td>\n",
       "      <td>0.0</td>\n",
       "      <td>0.0</td>\n",
       "      <td>0.0</td>\n",
       "    </tr>\n",
       "    <tr>\n",
       "      <th>3</th>\n",
       "      <td>0.000000</td>\n",
       "      <td>0.282864</td>\n",
       "      <td>0.0</td>\n",
       "      <td>0.000000</td>\n",
       "      <td>0.284019</td>\n",
       "      <td>0.000000</td>\n",
       "      <td>0.000000</td>\n",
       "      <td>0.000000</td>\n",
       "      <td>0.000000</td>\n",
       "      <td>0.0</td>\n",
       "      <td>...</td>\n",
       "      <td>0.0</td>\n",
       "      <td>0.0</td>\n",
       "      <td>0.0</td>\n",
       "      <td>0.0</td>\n",
       "      <td>0.0</td>\n",
       "      <td>0.0</td>\n",
       "      <td>0.0</td>\n",
       "      <td>0.0</td>\n",
       "      <td>0.0</td>\n",
       "      <td>0.0</td>\n",
       "    </tr>\n",
       "    <tr>\n",
       "      <th>4</th>\n",
       "      <td>0.427289</td>\n",
       "      <td>0.211572</td>\n",
       "      <td>0.0</td>\n",
       "      <td>0.000000</td>\n",
       "      <td>0.000000</td>\n",
       "      <td>0.000000</td>\n",
       "      <td>0.000000</td>\n",
       "      <td>0.175745</td>\n",
       "      <td>0.000000</td>\n",
       "      <td>0.0</td>\n",
       "      <td>...</td>\n",
       "      <td>0.0</td>\n",
       "      <td>0.0</td>\n",
       "      <td>0.0</td>\n",
       "      <td>0.0</td>\n",
       "      <td>0.0</td>\n",
       "      <td>0.0</td>\n",
       "      <td>0.0</td>\n",
       "      <td>0.0</td>\n",
       "      <td>0.0</td>\n",
       "      <td>0.0</td>\n",
       "    </tr>\n",
       "  </tbody>\n",
       "</table>\n",
       "<p>5 rows × 150 columns</p>\n",
       "</div>"
      ],
      "text/plain": [
       "        0         1    2         3         4         5         6         7    \\\n",
       "0  0.000000  0.221204  0.0  0.112472  0.443215  0.066424  0.000000  0.000000   \n",
       "1  0.000000  0.000000  0.0  0.000000  0.000000  0.000000  0.000000  0.000000   \n",
       "2  0.000000  0.000000  0.0  0.000000  0.050406  0.000000  0.101129  0.000000   \n",
       "3  0.000000  0.282864  0.0  0.000000  0.284019  0.000000  0.000000  0.000000   \n",
       "4  0.427289  0.211572  0.0  0.000000  0.000000  0.000000  0.000000  0.175745   \n",
       "\n",
       "        8    9   ...   140  141  142  143  144  145  146  147  148  149  \n",
       "0  0.000000  0.0 ...   0.0  0.0  0.0  0.0  0.0  0.0  0.0  0.0  0.0  0.0  \n",
       "1  0.941105  0.0 ...   0.0  0.0  0.0  0.0  0.0  0.0  0.0  0.0  0.0  0.0  \n",
       "2  0.060778  0.0 ...   0.0  0.0  0.0  0.0  0.0  0.0  0.0  0.0  0.0  0.0  \n",
       "3  0.000000  0.0 ...   0.0  0.0  0.0  0.0  0.0  0.0  0.0  0.0  0.0  0.0  \n",
       "4  0.000000  0.0 ...   0.0  0.0  0.0  0.0  0.0  0.0  0.0  0.0  0.0  0.0  \n",
       "\n",
       "[5 rows x 150 columns]"
      ]
     },
     "execution_count": 120,
     "metadata": {},
     "output_type": "execute_result"
    }
   ],
   "source": [
    "test_lda_features.head()"
   ]
  },
  {
   "cell_type": "code",
   "execution_count": 121,
   "metadata": {
    "collapsed": false
   },
   "outputs": [],
   "source": [
    "predictions = clf_lda.predict(test_lda_features)"
   ]
  },
  {
   "cell_type": "code",
   "execution_count": 122,
   "metadata": {
    "collapsed": false
   },
   "outputs": [
    {
     "name": "stdout",
     "output_type": "stream",
     "text": [
      "accuracy 0.671052631579\n",
      "confusion matrix\n",
      " [[13  1  0  0  0  1  0  5]\n",
      " [ 0 17  1  0  2  0  0  1]\n",
      " [ 1  1  6  0  6  4  0  0]\n",
      " [ 3  2  1 13  0  0  0  0]\n",
      " [ 0  3  0  1 14  0  0  1]\n",
      " [ 2  0  0  0  1 12  1  4]\n",
      " [ 1  0  0  0  1  0 12  3]\n",
      " [ 0  1  0  0  1  1  0 15]]\n",
      "(row=expected, col=predicted)\n"
     ]
    },
    {
     "data": {
      "image/png": "[encoded data removed]",
      "text/plain": [
       "<matplotlib.figure.Figure at 0x7f6460152410>"
      ]
     },
     "metadata": {},
     "output_type": "display_data"
    }
   ],
   "source": [
    "evaluate_prediction(predictions, test['category'])"
   ]
  },
  {
   "cell_type": "markdown",
   "metadata": {},
   "source": [
    "Turns out, our TF-IDF and bag of words based models outperform this method. However no gensim tutorial is complete without word embeddings. Let's try word embeddings now!"
   ]
  },
  {
   "cell_type": "markdown",
   "metadata": {},
   "source": [
    "# Word2Vec can make your heart skip a gram\n",
    "Well this is not really word2vec. We're just loading pre-trained twitter GloVe vectors. GloVe produces word embeddings in a different way than word2vec. GloVe uses a count-based model to learn word embeddings whereas word2vec tries to learn a \"predictive\" model by using different algorithms such as skip-gram or CBOW.\n",
    "\n",
    "We will be using twitter pre-trained GloVe vectors on twitter. We can convert them into word2vec vectors by just running [this](https://github.com/RaRe-Technologies/gensim/blob/develop/gensim/scripts/glove2word2vec.py) script present in gensim. I have used the 50d vectors however you are free to use the larger embeddings depending on the RAM you have."
   ]
  },
  {
   "cell_type": "code",
   "execution_count": 123,
   "metadata": {
    "collapsed": true
   },
   "outputs": [],
   "source": [
    "import gensim\n",
    "import logging\n",
    "\n",
    "from gensim.models import Word2Vec"
   ]
  },
  {
   "cell_type": "code",
   "execution_count": 124,
   "metadata": {
    "collapsed": false
   },
   "outputs": [],
   "source": [
    "wv = Word2Vec.load_word2vec_format(\"/home/devashish/Downloads/GloVes/wv.twitter.27B.50d.txt\",\n",
    "                                   binary=False)  # To use C text format\n",
    "wv.init_sims(replace=True)  # To decrease RAM usage"
   ]
  },
  {
   "cell_type": "code",
   "execution_count": 125,
   "metadata": {
    "collapsed": false
   },
   "outputs": [
    {
     "data": {
      "text/plain": [
       "[(u'chelsea', 0.9786632061004639),\n",
       " (u'liverpool', 0.9681325554847717),\n",
       " (u'utd', 0.9317814707756042),\n",
       " (u'united', 0.9310426712036133),\n",
       " (u'manchester', 0.9226013422012329),\n",
       " (u'tottenham', 0.9214313626289368),\n",
       " (u'everton', 0.919910728931427),\n",
       " (u'barca', 0.9044719934463501),\n",
       " (u'swansea', 0.9019159078598022),\n",
       " (u'qpr', 0.8937806487083435)]"
      ]
     },
     "execution_count": 125,
     "metadata": {},
     "output_type": "execute_result"
    }
   ],
   "source": [
    "wv.most_similar(positive=['arsenal'])"
   ]
  },
  {
   "cell_type": "markdown",
   "metadata": {},
   "source": [
    "### For this task our preprocessing will be different\n",
    "Preprocessing taken from [stanford twitter-preprocessor](http://nlp.stanford.edu/projects/glove/preprocess-twitter.rb)"
   ]
  },
  {
   "cell_type": "code",
   "execution_count": 126,
   "metadata": {
    "collapsed": true
   },
   "outputs": [],
   "source": [
    "import string\n",
    "\n",
    "exclude = string.punctuation\n",
    "exclude = re.sub('<|>', '', exclude)  # To keep our <tags> intact\n",
    "exclude = set(exclude)"
   ]
  },
  {
   "cell_type": "code",
   "execution_count": 127,
   "metadata": {
    "collapsed": true
   },
   "outputs": [],
   "source": [
    "\"\"\"\n",
    "preprocess-twitter.py\n",
    "python preprocess-twitter.py \"Some random text with #hashtags, @mentions and http://t.co/kdjfkdjf (links). :)\"\n",
    "Script for preprocessing tweets by Romain Paulus\n",
    "with small modifications by Jeffrey Pennington\n",
    "with translation to Python by Motoki Wu\n",
    "Translation of Ruby script to create features for GloVe vectors for Twitter data.\n",
    "http://nlp.stanford.edu/projects/glove/preprocess-twitter.rb\n",
    "\"\"\"\n",
    "\n",
    "FLAGS = re.MULTILINE | re.DOTALL\n",
    "\n",
    "def hashtag(text):\n",
    "    text = text.group()\n",
    "    hashtag_body = text[1:]\n",
    "    if hashtag_body.isupper():\n",
    "        result = \"<hashtag> {} <allcaps>\".format(hashtag_body)\n",
    "    else:\n",
    "        result = \" \".join([\"<hashtag>\"] + re.split(r\"(?=[A-Z])\", hashtag_body, flags=FLAGS))\n",
    "    return result\n",
    "\n",
    "def allcaps(text):\n",
    "    text = text.group()\n",
    "    return text.lower() + \" <allcaps> \"\n",
    "\n",
    "\n",
    "def preprocess_tweet(text):\n",
    "    # Different regex parts for smiley faces\n",
    "    eyes = r\"[8:=;]\"\n",
    "    nose = r\"['`\\-]?\"\n",
    "\n",
    "    # function so code less repetitive\n",
    "    def re_sub(pattern, repl):\n",
    "        return re.sub(pattern, repl, text, flags=FLAGS)\n",
    "\n",
    "    text = re_sub(r\"https?:\\/\\/\\S+\\b|www\\.(\\w+\\.)+\\S*\", \"<url>\")\n",
    "    text = re_sub(r\"/\",\" / \")\n",
    "    text = re_sub(r\"@\\w+\", \"<user>\")\n",
    "    text = re_sub(r\"{}{}[)dD]+|[)dD]+{}{}\".format(eyes, nose, nose, eyes), \"<smile>\")\n",
    "    text = re_sub(r\"{}{}p+\".format(eyes, nose), \"<lolface>\")\n",
    "    text = re_sub(r\"{}{}\\(+|\\)+{}{}\".format(eyes, nose, nose, eyes), \"<sadface>\")\n",
    "    text = re_sub(r\"{}{}[\\/|l*]\".format(eyes, nose), \"<neutralface>\")\n",
    "    text = re_sub(r\"<3\",\"<heart>\")\n",
    "    text = re_sub(r\"[-+]?[.\\d]*[\\d]+[:,.\\d]*\", \" <number> \")\n",
    "    text = re_sub(r\"#\\S+\", hashtag)\n",
    "    text = re_sub(r\"([!?.]){2,}\", r\"\\1 <repeat>\")\n",
    "    text = re_sub(r\"\\b(\\S*?)(.)\\2{2,}\\b\", r\"\\1\\2 <elong>\")\n",
    "\n",
    "    ## -- I just don't understand why the Ruby script adds <allcaps> to everything so I limited the selection.\n",
    "    # text = re_sub(r\"([^a-z0-9()<>'`\\-]){2,}\", allcaps)\n",
    "    text = re_sub(r\"([A-Z]){2,}\", allcaps)\n",
    "    \n",
    "    text = ''.join(ch for ch in text if ch not in exclude)  # Remove punctuation\n",
    "\n",
    "    return text.lower()"
   ]
  },
  {
   "cell_type": "code",
   "execution_count": 128,
   "metadata": {
    "collapsed": true
   },
   "outputs": [],
   "source": [
    "def g2v_tokenize_tweet(text):\n",
    "    text = text.encode('ascii', 'ignore')  # Deal with UnicodeDecodeErrors\n",
    "    text = preprocess_tweet(text)\n",
    "    return text.split()"
   ]
  },
  {
   "cell_type": "markdown",
   "metadata": {},
   "source": [
    "# Word Vector Averaging\n",
    "To get a vector for a document, we simply average it's word vectors. As suggested in [this](https://www.youtube.com/watch?v=7gTjYwiaJiU) video by Mike Tamir, the word averaging results to some kind of a unique word summarizing the whole document in one word. Eg all words in a book 'A tale of two cities' would probably add up to 'class-struggle'.\n",
    "<img src='images/word_avg.png'>"
   ]
  },
  {
   "cell_type": "code",
   "execution_count": 129,
   "metadata": {
    "collapsed": true
   },
   "outputs": [],
   "source": [
    "# code from \"Movie plots by genre\" by Lev Konstantinovskiy:\n",
    "# https://github.com/RaRe-Technologies/movie-plots-by-genre\n",
    "def word_averaging(wv, words):\n",
    "    all_words, mean = set(), []\n",
    "    \n",
    "    for word in words:\n",
    "        if isinstance(word, np.ndarray):\n",
    "            mean.append(word)\n",
    "        elif word in wv.vocab:\n",
    "            mean.append(wv.syn0norm[wv.vocab[word].index])\n",
    "            all_words.add(wv.vocab[word].index)\n",
    "\n",
    "    if not mean:\n",
    "        logging.warning(\"cannot compute similarity with no input %s\", words)\n",
    "        # FIXME: remove these examples in pre-processing\n",
    "        return np.zeros(wv.layer_size,)\n",
    "\n",
    "    mean = gensim.matutils.unitvec(np.array(mean).mean(axis=0)).astype(np.float32)\n",
    "    return mean\n",
    "\n",
    "def  word_averaging_list(wv, text_list):\n",
    "    return np.vstack([word_averaging(wv, review) for review in text_list ])"
   ]
  },
  {
   "cell_type": "code",
   "execution_count": 130,
   "metadata": {
    "collapsed": false,
    "scrolled": true
   },
   "outputs": [],
   "source": [
    "train_tokenized = train.apply(lambda t: g2v_tokenize_tweet(t['message']), axis=1).values\n",
    "test_tokenized = test.apply(lambda t: g2v_tokenize_tweet(t['message']), axis=1).values"
   ]
  },
  {
   "cell_type": "code",
   "execution_count": 131,
   "metadata": {
    "collapsed": true
   },
   "outputs": [],
   "source": [
    "X_train_word_average = word_averaging_list(wv,train_tokenized)\n",
    "X_test_word_average = word_averaging_list(wv,test_tokenized)"
   ]
  },
  {
   "cell_type": "code",
   "execution_count": 132,
   "metadata": {
    "collapsed": true
   },
   "outputs": [],
   "source": [
    "clf_g2v = LogisticRegression()\n",
    "clf_g2v = clf_g2v.fit(X_train_word_average, train['category'])"
   ]
  },
  {
   "cell_type": "code",
   "execution_count": 133,
   "metadata": {
    "collapsed": true
   },
   "outputs": [],
   "source": [
    "predictions = clf_g2v.predict(X_test_word_average)"
   ]
  },
  {
   "cell_type": "code",
   "execution_count": 134,
   "metadata": {
    "collapsed": false
   },
   "outputs": [
    {
     "name": "stdout",
     "output_type": "stream",
     "text": [
      "accuracy 0.519736842105\n",
      "confusion matrix\n",
      " [[15  2  0  0  0  3  0  0]\n",
      " [ 1 20  0  0  0  0  0  0]\n",
      " [ 3 13  0  0  0  2  0  0]\n",
      " [ 1  7  0 10  0  1  0  0]\n",
      " [ 3  4  0  0 12  0  0  0]\n",
      " [ 5  1  0  0  0 14  0  0]\n",
      " [ 6  1  0  0  1  1  8  0]\n",
      " [ 8  4  0  0  0  6  0  0]]\n",
      "(row=expected, col=predicted)\n"
     ]
    },
    {
     "data": {
      "image/png": "[encoded data removed]",
      "text/plain": [
       "<matplotlib.figure.Figure at 0x7f6460039c10>"
      ]
     },
     "metadata": {},
     "output_type": "display_data"
    }
   ],
   "source": [
    "evaluate_prediction(predictions, test['category'])"
   ]
  },
  {
   "cell_type": "markdown",
   "metadata": {},
   "source": [
    "Turned out to be pretty disappointing :( Probably word averaging doesn't work too well for tweets. This classifies most categories as \"Business and CEOs\" for some reason.\n",
    "\n",
    "__Things to try__: We can tweak our preprocessing here. Probably use our previous preprocessor. Can also use a neural network based MLPClassifier instead of logistic regression."
   ]
  },
  {
   "cell_type": "markdown",
   "metadata": {},
   "source": [
    "# You can use the function below for user classification!"
   ]
  },
  {
   "cell_type": "code",
   "execution_count": 135,
   "metadata": {
    "collapsed": true
   },
   "outputs": [],
   "source": [
    "def get_tweets(handle):\n",
    "    \"\"\"\n",
    "    Function to return user profile.\n",
    "    \n",
    "    Parameters:\n",
    "    ----------\n",
    "    handle: Twitter handle\n",
    "    \n",
    "    Returns:\n",
    "    -------\n",
    "    tweets: space seperated list of tweets\n",
    "    \"\"\"\n",
    "    tweets = api.GetUserTimeline(screen_name=handle, count=200)\n",
    "    tweets = [tweet.text for tweet in tweets]\n",
    "    return ' '.join(tweets)"
   ]
  },
  {
   "cell_type": "code",
   "execution_count": 136,
   "metadata": {
    "collapsed": true
   },
   "outputs": [],
   "source": [
    "def pred_handle(handle, vectorizer=None, clf=None, g2v_or_lda=None):\n",
    "    \"\"\"\n",
    "    Function to classify handle. Vectorizer need not be\n",
    "    provided if g2v_or_lda is being used. g2v_or_lda can be:\n",
    "        'g2v' for classification with glove word averaging\n",
    "        'lda' for classification with LDA inference\n",
    "        'None' for classification with standard preprocessor and vectorizer\n",
    "    \n",
    "    Parameters:\n",
    "    ----------\n",
    "    handle: Twitter handle of user to classify\n",
    "    vectorizer: Vectorizer (pre-trained) to be used\n",
    "    clf: Classifier (pre-trained) to be used\n",
    "    g2v_or_lda: 'g2v', 'lda' or 'None' depending on which \"mode\" you want to use\n",
    "    \n",
    "    Returns:\n",
    "    -------\n",
    "    category: Classified category\n",
    "    \"\"\"\n",
    "    if clf is None:\n",
    "        raise Exception('Classifier has to be provided')\n",
    "    if vectorizer is None and g2v_or_lda is None:\n",
    "        raise Exception('Vectorizer should be provided if glove'\n",
    "                        ' or LDA classification is not being used')\n",
    "    profile = get_tweets(handle)\n",
    "    if g2v_or_lda is None:\n",
    "        profile = preprocess_text(profile)\n",
    "        profile = bigram[profile]\n",
    "        features = vectorizer.transform([' '.join(profile)])\n",
    "    else:\n",
    "        if g2v_or_lda == 'g2v':\n",
    "            profile = g2v_tokenize_tweet(profile)\n",
    "            features = word_averaging_list(wv, profile)\n",
    "        elif g2v_or_lda == 'lda':\n",
    "            features = np.zeros(shape=(1, num_topics))\n",
    "            inference = lda_hdp[dictionary.doc2bow(message)]\n",
    "            for tid, val in inference:\n",
    "                features[:, tid] = val\n",
    "    category = clf.predict(features)\n",
    "    return category"
   ]
  },
  {
   "cell_type": "code",
   "execution_count": 137,
   "metadata": {
    "collapsed": false
   },
   "outputs": [
    {
     "name": "stdout",
     "output_type": "stream",
     "text": [
      "Sports\n"
     ]
    }
   ],
   "source": [
    "pred = pred_handle('chelseafc', vectorizer=count_vectorizer, clf=clf_count, g2v_or_lda=None)[0]\n",
    "print categories_map[pred]"
   ]
  },
  {
   "cell_type": "markdown",
   "metadata": {},
   "source": [
    "__Please note that the results for these techniques apply to this particular dataset only__\n",
    "\n",
    "GloVe and word embeddings are a very powerful technique to do complex NLP tasks. Do watch [this](https://www.youtube.com/watch?v=vkfXBGnDplQ) video by Chris Moody to see some of the applications of word2vec outside of text processing.\n",
    "\n",
    "You can try other techniques too such as Doc2Vec, word mover's distance (WMD) etc. for exploring more techniques to working with text data. Do check out [this](https://github.com/RaRe-Technologies/movie-plots-by-genre/blob/master/ipynb_with_output/Document%20classification%20with%20word%20embeddings%20tutorial%20-%20with%20output.ipynb) notebook by Lev Konstantinovskiy."
   ]
  },
  {
   "cell_type": "markdown",
   "metadata": {},
   "source": [
    "# Bibliography\n",
    "Do have a look at the following resources I used for making this tutorial:\n",
    "- [Movie plots by genre by Lev Konstantinovskiy](https://github.com/RaRe-Technologies/movie-plots-by-genre/blob/master/ipynb_with_output/Document%20classification%20with%20word%20embeddings%20tutorial%20-%20with%20output.ipynb)\n",
    "- [Topic coherence pipeline paper by Roeder et al](svn.aksw.org/papers/2015/WSDM_Topic_Evaluation/public.pdf)\n",
    "- [Original LDA paper by Blei et al](https://www.cs.princeton.edu/~blei/papers/BleiNgJordan2003.pdf)\n",
    "- [Online LDA paper by Blei et al](https://www.cs.princeton.edu/~blei/papers/HoffmanBleiBach2010b.pdf)\n",
    "- [Empirical study of topic modeling in Twitter by Davison et al](http://snap.stanford.edu/soma2010/papers/soma2010_12.pdf)\n",
    "- [Machine learning approach to twitter user classification by Pennacchiotti et al](https://www.google.co.in/url?sa=t&rct=j&q=&esrc=s&source=web&cd=1&ved=0ahUKEwjHiN7E8svPAhUKPo8KHaY3CsUQFggiMAA&url=https%3A%2F%2Fwww.aaai.org%2Focs%2Findex.php%2FICWSM%2FICWSM11%2Fpaper%2Fdownload%2F2886%2F3262&usg=AFQjCNE7NxTUl11QpN6GA7qj6_NNK0tjqw&sig2=LXSszb8tQN00sej6yr-I5w)\n",
    "- [Stanford GloVe project](http://nlp.stanford.edu/projects/glove/)"
   ]
  }
 ],
 "metadata": {
  "anaconda-cloud": {},
  "kernelspec": {
   "display_name": "Python 2",
   "language": "python",
   "name": "python2"
  },
  "language_info": {
   "codemirror_mode": {
    "name": "ipython",
    "version": 2
   },
   "file_extension": ".py",
   "mimetype": "text/x-python",
   "name": "python",
   "nbconvert_exporter": "python",
   "pygments_lexer": "ipython2",
   "version": "2.7.12"
  }
 },
 "nbformat": 4,
 "nbformat_minor": 0
}
